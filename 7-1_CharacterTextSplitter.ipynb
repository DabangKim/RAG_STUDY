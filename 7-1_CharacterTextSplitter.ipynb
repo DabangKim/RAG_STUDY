{
 "cells": [
  {
   "cell_type": "markdown",
   "metadata": {},
   "source": [
    "- seperator(구분자): 주어진 구분자를 기준으로 텍스트를 분할하며, 청크 사이즈에 맞게 재구성(예: separator = \"\\n\")\n",
    "- chunk_size(청크 길이): 텍스트를 자를 때, 기준이 되는 글자 수(예: chunk_size = 500)\n",
    "- chunk_overlap: 청크 간의 겹치는 수준으로 이를 통해 앞뒤 청크 간의 맥락을 더 잘 유지하도록 함(예: chunk_overlap = 100)\n",
    "- length_function : 청크의 길이를 측정하는 함수로, 기본적으로 len()을 사용하지만 필요에 따라 다른 함수로 변경 가능(예: length_function = len)\n",
    "- is_seperator_regex : 구분자가 정규 표현식인지 여부를 나타내며, True로 설정하면 구분자를 정규 표현식으로 해석(예: is_seperator_regex = False)\n",
    "- keep_separator : 구분자를 청크에 포함할지 여부를 설정하며, True로 설정하면 구분자가 청크에 포함됨(예: keep_separator = False)\n",
    "- is_split_into_sentences : 문장 단위로 분할할지 여부를 설정하며, True로 설정하면 문장 단위로 분할됨(예: is_split_into_sentences = False)\n",
    "- is_split_into_words : 단어 단위로 분할할지 여부를 설정하며, True로 설정하면 단어 단위로 분할됨(예: is_split_into_words = False)\n",
    "- is_split_into_lines : 줄 단위로 분할할지 여부를 설정하며, True로 설정하면 줄 단위로 분할됨(예: is_split_into_lines = False)\n",
    "- is_split_into_paragraphs : 문단 단위로 분할할지 여부를 설정하며, True로 설정하면 문단 단위로 분할됨(예: is_split_into_paragraphs = False)"
   ]
  },
  {
   "cell_type": "code",
   "execution_count": 1,
   "metadata": {},
   "outputs": [
    {
     "name": "stdout",
     "output_type": "stream",
     "text": [
      "page_content='혁신성장 정책금융 동향 : ICT 산업을 중심으로\n",
      " CIS이슈리포트 2022-2호 | 1 |\n",
      "<요 약>\n",
      "▶ 혁신성장 정책금융기관*은 혁신성장산업 영위기업을 발굴·지원하기 위한 정책금융 가이드라인**에 따라 혁신\n",
      "성장 기술분야에 대한 금융지원을 강화하고 있음\n",
      " * 산업은행, 기업은행, 수출입은행, 신용보증기금, 기술보증기금, 중소벤처기업진흥공단, 무역보험공사 등 \n",
      "11개 기관\n",
      " ** 혁신성장 정책금융 지원 대상을 판단하는 기준으로, ‘9대 테마 – 46개 분야 – 296개 품목’으로 구성\n",
      "￮ 정책금융기관의 혁신성장 정책금융 공급규모는 2017년 24.1조 원에서 2021년 85.4조 원으로 크게 증가\n",
      "하여 국내 산업 구조의 미래 산업으로의 전환을 충실히 지원하고 있음\n",
      "￮ 본 보고서는 ICT 산업의 정책금융 지원 트렌드를 파악하고, 혁신성장 정책금융이 집중되는 주요 품목의\n",
      "기술·시장 동향을 분석함\n",
      "▶ 혁신성장 ICT 산업은 정보통신(6개 분야, 47개 품목), 전기전자(5개 분야, 27개 품목), 센서측정(3개 분야, 19개 품목) 테마로 구성되며, 혁신성장 정책금융기관의 공급액 규모는 2021년 말 기준 16.9조 원으로 \n",
      "2017년 이후 연평균 39.2% 지속 증가하고 있음\n",
      "￮ ICT 산업의 공급액 규모 비중은 혁신성장 정책금융 총 공급 규모의 약 20% 수준임\n",
      " * (‘17)18.7% → (’18)20.7% → (’19)18.5% → (’20)20.3% → (’21)19.8%\n",
      "혁신성장 정책금융 동향 :\n",
      "ICT 산업을 중심으로\n",
      "오동찬 선임조사역 (dcoh@kcredit.or.kr)' metadata={'source': 'data/[이슈리포트 2022-2호] 혁신성장 정책금융 동향.pdf', 'page': 0}\n"
     ]
    },
    {
     "name": "stderr",
     "output_type": "stream",
     "text": [
      "/opt/anaconda3/envs/RAG_CODE/lib/python3.12/site-packages/pypdfium2/_helpers/textpage.py:80: UserWarning: get_text_range() call with default params will be implicitly redirected to get_text_bounded()\n",
      "  warnings.warn(\"get_text_range() call with default params will be implicitly redirected to get_text_bounded()\")\n"
     ]
    }
   ],
   "source": [
    "# PyPDFium2 & CharacterTextSplitter\n",
    "from langchain.document_loaders import PyPDFium2Loader\n",
    "from langchain_text_splitters import CharacterTextSplitter\n",
    "\n",
    "# PDF파일 불러올 객체 PyPDFium2Loader 선언\n",
    "loader = PyPDFium2Loader(\"data/[이슈리포트 2022-2호] 혁신성장 정책금융 동향.pdf\")\n",
    "\n",
    "# PDF파일 로드 및 페이지별로 자르기(PyPDFium2는 load_and_split 함수 없이도 페이지별로 자름)\n",
    "pages = loader.load()\n",
    "\n",
    "# 구분자: 줄넘김, 청크 길이: 1000, 청크 오버랩: 150, length_function: 글자수\n",
    "text_splitter = CharacterTextSplitter(\n",
    "    separator = \"\\n\",\n",
    "    chunk_size = 1000,\n",
    "    chunk_overlap = 150,\n",
    "    length_function = len\n",
    ")\n",
    "\n",
    "# 텍스트 분할\n",
    "texts = text_splitter.split_documents(pages)\n",
    "print(texts[0])"
   ]
  },
  {
   "cell_type": "code",
   "execution_count": 2,
   "metadata": {},
   "outputs": [
    {
     "name": "stdout",
     "output_type": "stream",
     "text": [
      "page_content='| 2 | CIS이슈리포트 2022-2호 \n",
      "▶ 혁신성장 ICT 산업의 정책금융 공급규모 및 공급속도를 종합적으로 분석한 결과, 차세대무선통신미디어, 능동형컴퓨팅(이상 정보통신 테마), 차세대반도체(전기전자 테마) 및 객체탐지(센서측정 테마) 기술분야로 \n",
      "혁신성장 정책금융이 집중되고 있음\n",
      "[ICT 산업 내 주요 기술분야 혁신성장 정책금융 공급 현황]\n",
      " (단위: 억 원, %)\n",
      "테마\n",
      "(대분류)\n",
      "주요 기술분야\n",
      "(중분류)\n",
      "정책금융 공급규모 연평균 공급액 \n",
      "증가율(%)\n",
      "테마 내 공급 \n",
      "2017년 말 2021년 말 점유율(%)\n",
      "정보통신\n",
      "차세대무선통신미디어 7,820 27,865 37.4 45.1\n",
      "능동형컴퓨팅 352 16,032 159.8 10.1\n",
      "전기전자 차세대반도체 12,019 53,779 45.4 58.5\n",
      "센서측정 객체탐지 1,278 6,711 51.4 48.5\n",
      "▶ 주요 기술분야별 세부 품목단위로는 5G 이동통신시스템, 인공지능(AI), 시스템반도체 및 스마트센서에 \n",
      "정책금융 공급량이 높은 것으로 확인됨\n",
      "￮ 정부가 미래 먹거리산업으로 선정한 인공지능(AI)의 미래성장율(CAGR: 41.0%)이 가장 높으며, 시장규모는\n",
      "시스템반도체(3,833.8억 달러, 2025년)가 가장 큰 것으로 분석됨\n",
      "￮ 4대 품목은 공통적으로 수요기반이 크고, 각국 정부가 중점적으로 육성을 지원하고 있어 시장이 지속 \n",
      "성장할 것으로 전망되나, 원천기술 미확보 및 높은 해외 의존도가 약점으로 지적되어 국내 기업의 경쟁력\n",
      "강화가 시급한 것으로 평가됨\n",
      "[혁신성장 ICT 주요 품목 시장전망]\n",
      " (단위: 억 달러, %)\n",
      "주요 기술분야\n",
      "(중분류)\n",
      "주요 품목\n",
      "(소분류)\n",
      "시장규모 전망\n",
      "시장 촉진·저해요인\n",
      "2020년 2025년(E) CAGR(%)\n",
      "차세대\n",
      "무선통신미디어\n",
      "5G이동통신\n",
      "시스템 494.4 1,982.0 32.0\n",
      "Ÿ (촉진) 정부의 국제표준 확보 의지\n",
      "Ÿ (저해) 소재에 대한 높은 해외 의존도' metadata={'source': 'data/[이슈리포트 2022-2호] 혁신성장 정책금융 동향.pdf', 'page': 1}\n"
     ]
    }
   ],
   "source": [
    "print(texts[1])"
   ]
  },
  {
   "cell_type": "code",
   "execution_count": 3,
   "metadata": {},
   "outputs": [
    {
     "name": "stdout",
     "output_type": "stream",
     "text": [
      "[802, 1424, 1181, 1228, 708, 669, 1580, 567, 1412, 1302, 1106, 543, 1291, 1116, 1321, 945, 981, 1057]\n"
     ]
    }
   ],
   "source": [
    "text_splitter = CharacterTextSplitter(\n",
    "    separator = \"\\n\\n\",\n",
    "    chunk_size = 500,\n",
    "    chunk_overlap = 100,\n",
    "    length_function = len,\n",
    "    is_separator_regex = False,\n",
    ")\n",
    "\n",
    "texts = text_splitter.split_documents(pages)\n",
    "print([len(i.page_content) for i in texts])"
   ]
  }
 ],
 "metadata": {
  "kernelspec": {
   "display_name": "RAG_CODE",
   "language": "python",
   "name": "python3"
  },
  "language_info": {
   "codemirror_mode": {
    "name": "ipython",
    "version": 3
   },
   "file_extension": ".py",
   "mimetype": "text/x-python",
   "name": "python",
   "nbconvert_exporter": "python",
   "pygments_lexer": "ipython3",
   "version": "3.12.2"
  }
 },
 "nbformat": 4,
 "nbformat_minor": 2
}
