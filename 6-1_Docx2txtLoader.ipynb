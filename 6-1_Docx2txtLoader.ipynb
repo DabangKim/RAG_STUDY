{
 "cells": [
  {
   "cell_type": "code",
   "execution_count": 2,
   "metadata": {},
   "outputs": [
    {
     "name": "stdout",
     "output_type": "stream",
     "text": [
      "2011.09.01\t'갤럭시 노트' 공개\n",
      "\n",
      "\t2012.04.01\tLCD사업부 분사(삼성디스플레이㈜ 설립)\n",
      "\n",
      "\t2013.06.26\t'갤럭시 S4 LTE-A' LTE-A 스마트폰 출시\n",
      "\n",
      "\t2013.08.06\t'3D V-NAND' 3차원 수직구조 낸드플래시 메모리 양산\n",
      "\n",
      "\t2013.09.24\t'아이소셀(ISOCELL)' 차세대 CMOS 이미지센서 개발\n",
      "\n",
      "\t2017.03.05\t'QLED TV' 진화된 퀀텀닷 기술 적용 TV 출시\n",
      "\n",
      "\t2017.03.10\t전장 기업 Harman International Industries, Inc.사(100%) 지분 인수 2017.07.04\t세계 최대 규모 평택 반도체 라인 가동\n",
      "\n",
      "\t2017.11.01\t프린팅솔루션 사업 매각\n",
      "\n",
      "\t2018.08.30\t'QLED 8K TV' 퀀텀닷 기술과 8K 해상도 적용 TV 출시\n",
      "\n",
      "\t2018.11.07\t'폴더블 디스플레이' 삼성 개발자 컨퍼런스에서 공개\n",
      "\n",
      "\t2019.04.03\t'갤럭시 S10 5G' 5G 스마트폰 출시\n",
      "\n",
      "\t20\n"
     ]
    }
   ],
   "source": [
    "# Docx2txtLoader 불러오기\n",
    "from langchain.document_loaders import Docx2txtLoader\n",
    "\n",
    "# Docx2txtLoader로 워드 파일 불러오기(경로 설정)\n",
    "loader = Docx2txtLoader(\"data/[삼성전자] 사업보고서(일반법인) (2021.03.09).docx\")\n",
    "\n",
    "# 페이지로 분할하여 불러오기\n",
    "data = loader.load_and_split()\n",
    "\n",
    "# 첫번째 페이지 출력하기\n",
    "print(data[12].page_content[:500])"
   ]
  },
  {
   "cell_type": "code",
   "execution_count": 3,
   "metadata": {},
   "outputs": [
    {
     "name": "stdout",
     "output_type": "stream",
     "text": [
      "{'source': 'data/[삼성전자] 사업보고서(일반법인) (2021.03.09).docx'}\n"
     ]
    }
   ],
   "source": [
    "# load한 워드파일의 메타데이터 확인\n",
    "print(data[12].metadata)"
   ]
  }
 ],
 "metadata": {
  "kernelspec": {
   "display_name": "RAG_CODE",
   "language": "python",
   "name": "python3"
  },
  "language_info": {
   "codemirror_mode": {
    "name": "ipython",
    "version": 3
   },
   "file_extension": ".py",
   "mimetype": "text/x-python",
   "name": "python",
   "nbconvert_exporter": "python",
   "pygments_lexer": "ipython3",
   "version": "3.12.9"
  }
 },
 "nbformat": 4,
 "nbformat_minor": 2
}
