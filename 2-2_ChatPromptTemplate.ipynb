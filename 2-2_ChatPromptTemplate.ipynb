{
 "cells": [
  {
   "cell_type": "code",
   "execution_count": null,
   "metadata": {},
   "outputs": [],
   "source": [
    "from langchain.schema import HumanMessage, SystemMessage, AIMessage\n",
    "\n",
    "prompt = SystemMessage(\n",
    "    content = \"너는 항상 밝은 말투로 대화하는 챗봇이야. 답변의 끝에 이모티콘을 붙여줘.\"\n",
    ")\n",
    "\n",
    "new_prompt = (\n",
    "    prompt\n",
    "    + HumanMessage(\n",
    "        content = \"오늘은 날씨가 어때?\"\n",
    "        )\n",
    "    + AIMessage(\n",
    "        content = \"오늘은 날씨가 아주 좋아요!\"\n",
    "        )\n",
    "    + \"{input}\"\n",
    ")\n",
    "\n",
    "new_prompt.format_messages(input = \"오늘 너의 기분은 어때?\")"
   ]
  }
 ],
 "metadata": {
  "kernelspec": {
   "display_name": "RAG_CODE",
   "language": "python",
   "name": "python3"
  },
  "language_info": {
   "name": "python",
   "version": "3.12.9"
  }
 },
 "nbformat": 4,
 "nbformat_minor": 2
}
