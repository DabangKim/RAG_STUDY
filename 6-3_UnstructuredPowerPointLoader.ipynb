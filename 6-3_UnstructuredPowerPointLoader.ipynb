{
 "cells": [
  {
   "cell_type": "code",
   "execution_count": 3,
   "metadata": {},
   "outputs": [
    {
     "data": {
      "text/plain": [
       "Document(metadata={'source': 'data/Copilot-scenarios-for-Marketing.pptx', 'category_depth': 0, 'file_directory': 'data', 'filename': 'Copilot-scenarios-for-Marketing.pptx', 'last_modified': '2025-03-16T22:27:51', 'page_number': 2, 'languages': ['eng'], 'filetype': 'application/vnd.openxmlformats-officedocument.presentationml.presentation', 'category': 'Title', 'element_id': '37991e0f3ff36db43b1ba8379a3657de'}, page_content='Copilot scenarios for\\x0bMarketing')"
      ]
     },
     "execution_count": 3,
     "metadata": {},
     "output_type": "execute_result"
    }
   ],
   "source": [
    "# UnstructuredPowerPointLoader 불러오기\n",
    "from langchain.document_loaders import UnstructuredPowerPointLoader\n",
    "\n",
    "# mode=elements를 통해 pptx의 요소별로 Document 객체로 가져오기\n",
    "loader = UnstructuredPowerPointLoader(\"data/Copilot-scenarios-for-Marketing.pptx\", mode = \"elements\")\n",
    "\n",
    "# pptx 파일을 분할 로드하기\n",
    "data = loader.load_and_split()\n",
    "\n",
    "# 데이터 확인\n",
    "data[1]"
   ]
  },
  {
   "cell_type": "code",
   "execution_count": null,
   "metadata": {},
   "outputs": [
    {
     "name": "stdout",
     "output_type": "stream",
     "text": [
      "Title\n",
      "Copilot scenarios for\u000bMarketing\n",
      "\n",
      "\n",
      "Title\n",
      "Overview and KPIs\n",
      "\n",
      "\n",
      "Title\n",
      "Use Case by Role\n",
      "\n",
      "\n",
      "Title\n",
      "Day in the Life\n",
      "\n",
      "\n",
      "NarrativeText\n",
      "KPIs play a crucial role in organizations, providing a compass to navigate toward success. Let's dive into KPIs for Marketing and how Copilot can assist.\n",
      "\n",
      "\n",
      "NarrativeText\n",
      "Copilot can simplify the tasks that execs perform every day. Look at key use cases and how Copilot can be your AI assistant along the way.\n",
      "\n",
      "\n",
      "NarrativeText\n",
      "See how real-life marketers are using Copilot in their day to day.\n",
      "\n",
      "\n"
     ]
    }
   ],
   "source": [
    "for i in data:\n",
    "    if i.metadata['page_number'] == 2:\n",
    "        print(i.metadata['category'])\n",
    "        print(i.page_content)\n",
    "        print(\"\\n\")"
   ]
  }
 ],
 "metadata": {
  "kernelspec": {
   "display_name": "RAG_CODE",
   "language": "python",
   "name": "python3"
  },
  "language_info": {
   "codemirror_mode": {
    "name": "ipython",
    "version": 3
   },
   "file_extension": ".py",
   "mimetype": "text/x-python",
   "name": "python",
   "nbconvert_exporter": "python",
   "pygments_lexer": "ipython3",
   "version": "3.12.2"
  }
 },
 "nbformat": 4,
 "nbformat_minor": 2
}
