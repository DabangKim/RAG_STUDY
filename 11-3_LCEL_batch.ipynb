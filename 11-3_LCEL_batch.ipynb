{
 "cells": [
  {
   "cell_type": "markdown",
   "metadata": {},
   "source": [
    "#### 5개 문장 번역 batch() 수행"
   ]
  },
  {
   "cell_type": "code",
   "execution_count": null,
   "metadata": {},
   "outputs": [
    {
     "name": "stdout",
     "output_type": "stream",
     "text": [
      "실행 시간: 3.17초\n",
      "content='She reads a book every morning.' additional_kwargs={} response_metadata={'model': 'basic_kanana', 'created_at': '2025-04-01T07:11:33.676225Z', 'done': True, 'done_reason': 'stop', 'total_duration': 1711431333, 'load_duration': 691180958, 'prompt_eval_count': 95, 'prompt_eval_duration': 710566750, 'eval_count': 9, 'eval_duration': 306061958, 'message': Message(role='assistant', content='', images=None, tool_calls=None)} id='run-bface0a1-4075-44e2-9c58-a8e6986484a3-0' usage_metadata={'input_tokens': 95, 'output_tokens': 9, 'total_tokens': 104}\n",
      "content='오늘 날씨가 참 좋네요를 프랑스어로 번역하면 \"Le weather est tres bonjour today\"입니다.' additional_kwargs={} response_metadata={'model': 'basic_kanana', 'created_at': '2025-04-01T07:11:34.4523Z', 'done': True, 'done_reason': 'stop', 'total_duration': 2487587625, 'load_duration': 690846667, 'prompt_eval_count': 94, 'prompt_eval_duration': 711576125, 'eval_count': 29, 'eval_duration': 1081424416, 'message': Message(role='assistant', content='', images=None, tool_calls=None)} id='run-5f791b9b-c7f9-4077-b103-efa640cf957c-0' usage_metadata={'input_tokens': 94, 'output_tokens': 29, 'total_tokens': 123}\n",
      "content='저녁에 친구들과 영화를 볼 거예요.를 프랑스어로 번역하면 \"Je vais voir un film avec mes friends ce soir.\"입니다.' additional_kwargs={} response_metadata={'model': 'basic_kanana', 'created_at': '2025-04-01T07:11:34.637758Z', 'done': True, 'done_reason': 'stop', 'total_duration': 2672983959, 'load_duration': 690305334, 'prompt_eval_count': 98, 'prompt_eval_duration': 711399875, 'eval_count': 35, 'eval_duration': 1267253333, 'message': Message(role='assistant', content='', images=None, tool_calls=None)} id='run-e07a6b53-76e9-4e7d-a08d-48aa48b62dfd-0' usage_metadata={'input_tokens': 98, 'output_tokens': 35, 'total_tokens': 133}\n",
      "content='그 학생은 매우 성실하게 공부합니다.는 French로 \"L\\'élève estvery diligent en étudier.\"라고 번역할 수 있습니다.' additional_kwargs={} response_metadata={'model': 'basic_kanana', 'created_at': '2025-04-01T07:11:34.944778Z', 'done': True, 'done_reason': 'stop', 'total_duration': 2979659250, 'load_duration': 692796791, 'prompt_eval_count': 96, 'prompt_eval_duration': 118114250, 'eval_count': 35, 'eval_duration': 1150169666, 'message': Message(role='assistant', content='', images=None, tool_calls=None)} id='run-fcdcca64-30b7-4077-a1a9-99940f3074a3-0' usage_metadata={'input_tokens': 96, 'output_tokens': 35, 'total_tokens': 131}\n",
      "content='물론입니다! \"커피 한 잔이 지금 딱 필요해요.\"를 프랑스어로 번역하면 \"J\\'ai exactement ce qui est nécessaire de la coffee au moment.\" 입니다. 도움이 되셨나요? ' additional_kwargs={} response_metadata={'model': 'basic_kanana', 'created_at': '2025-04-01T07:11:35.103592Z', 'done': True, 'done_reason': 'stop', 'total_duration': 3138162042, 'load_duration': 691652792, 'prompt_eval_count': 99, 'prompt_eval_duration': 712084416, 'eval_count': 52, 'eval_duration': 1732368125, 'message': Message(role='assistant', content='', images=None, tool_calls=None)} id='run-0f24e63b-f983-4488-9d67-1306b3e50f5c-0' usage_metadata={'input_tokens': 99, 'output_tokens': 52, 'total_tokens': 151}\n"
     ]
    }
   ],
   "source": [
    "import time\n",
    "from langchain_core.prompts import ChatPromptTemplate\n",
    "from langchain_ollama import ChatOllama\n",
    "\n",
    "start_time = time.time()\n",
    "\n",
    "llm = ChatOllama(\n",
    "    model=\"basic_kanana\",\n",
    "    temperature=0.8\n",
    ")\n",
    "prompt = ChatPromptTemplate.from_template(\"다음 한글 문장을 프랑스어로 번역해줘 {sentence}\")\n",
    "chain = prompt | llm\n",
    "\n",
    "results = chain.batch([\n",
    "    {\"sentence\": \"그녀는 매일 아침 책을 읽습니다.\"},\n",
    "    {\"sentence\": \"오늘 날씨가 참 좋네요.\"},\n",
    "    {\"sentence\": \"저녁에 친구들과 영화를 볼 거예요.\"},\n",
    "    {\"sentence\": \"그 학생은 매우 성실하게 공부합니다.\"},\n",
    "    {\"sentence\": \"커피 한 잔이 지금 딱 필요해요.\"}\n",
    "])\n",
    "\n",
    "end_time = time.time()\n",
    "print(f\"실행 시간: {end_time - start_time:.2f}초\")\n",
    "\n",
    "for result in results:\n",
    "    print(result)"
   ]
  },
  {
   "cell_type": "markdown",
   "metadata": {},
   "source": [
    "#### 1개 문장 번역 invoke() 수행"
   ]
  },
  {
   "cell_type": "code",
   "execution_count": 3,
   "metadata": {},
   "outputs": [
    {
     "name": "stdout",
     "output_type": "stream",
     "text": [
      "실행 시간: 0.43초\n",
      "content='She reads a book every morning.' additional_kwargs={} response_metadata={'model': 'basic_kanana', 'created_at': '2025-04-01T07:14:05.170829Z', 'done': True, 'done_reason': 'stop', 'total_duration': 402577333, 'load_duration': 27257666, 'prompt_eval_count': 95, 'prompt_eval_duration': 161350916, 'eval_count': 9, 'eval_duration': 213280834, 'message': Message(role='assistant', content='', images=None, tool_calls=None)} id='run-480fb9c8-9035-40e6-8a59-47fd7d0b988b-0' usage_metadata={'input_tokens': 95, 'output_tokens': 9, 'total_tokens': 104}\n"
     ]
    }
   ],
   "source": [
    "start_time = time.time()\n",
    "\n",
    "llm = ChatOllama(\n",
    "    model=\"basic_kanana\",\n",
    "    temperature=0.8\n",
    ")\n",
    "prompt = ChatPromptTemplate.from_template(\"다음 한글 문장을 프랑스어로 번역해줘 {sentence}\")\n",
    "chain = prompt | llm\n",
    "result = chain.invoke({\"sentence\": \"그녀는 매일 아침 책을 읽습니다.\"})\n",
    "\n",
    "end_time = time.time()\n",
    "\n",
    "print(f\"실행 시간: {end_time - start_time:.2f}초\")\n",
    "print(result)"
   ]
  }
 ],
 "metadata": {
  "kernelspec": {
   "display_name": "RAG_CODE",
   "language": "python",
   "name": "python3"
  },
  "language_info": {
   "codemirror_mode": {
    "name": "ipython",
    "version": 3
   },
   "file_extension": ".py",
   "mimetype": "text/x-python",
   "name": "python",
   "nbconvert_exporter": "python",
   "pygments_lexer": "ipython3",
   "version": "3.12.9"
  }
 },
 "nbformat": 4,
 "nbformat_minor": 2
}
