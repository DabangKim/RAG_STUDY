{
 "cells": [
  {
   "cell_type": "code",
   "execution_count": 1,
   "metadata": {},
   "outputs": [
    {
     "name": "stdout",
     "output_type": "stream",
     "text": [
      "물론입니다! 여기 롯데 자이언츠와 관련된 짧은 농담을 하나 만들어 보았습니다:\n",
      "\n",
      "\"왜 롯데 자이언츠의 유니폼 색깔이 빨간색과 흰색일까요? 아마도 그 이유는 서로 잘 어울리기 때문이지 않을까요?\"\n",
      "\n",
      "이 농담이 재미있길 바랍니다! 추가로 궁금한 사항이 있으면 언제든지 물어보세요."
     ]
    }
   ],
   "source": [
    "from langchain_core.prompts import ChatPromptTemplate\n",
    "from langchain_ollama import ChatOllama\n",
    "\n",
    "# 프롬프트 템플릿 설정\n",
    "prompt = ChatPromptTemplate.from_template(\"{topic}에 관한 짧은 농담을 생성해줘\")\n",
    "\n",
    "# 여러 버전의 질문으로 변환하는 역할을 맡을 LLM 선언\n",
    "llm = ChatOllama(\n",
    "    model = \"basic_kanana\",\n",
    "    temperature = 0.8\n",
    ")\n",
    "\n",
    "# Chain 선언\n",
    "chain = prompt | llm\n",
    "\n",
    "# Chain의 stream()함수를 통해 스트리밍 기능 추가\n",
    "for s in chain.stream({\"topic\": \"롯데 자이언츠\"}):\n",
    "    print(s.content, end = \"\", flush = True)"
   ]
  }
 ],
 "metadata": {
  "kernelspec": {
   "display_name": "RAG_CODE",
   "language": "python",
   "name": "python3"
  },
  "language_info": {
   "codemirror_mode": {
    "name": "ipython",
    "version": 3
   },
   "file_extension": ".py",
   "mimetype": "text/x-python",
   "name": "python",
   "nbconvert_exporter": "python",
   "pygments_lexer": "ipython3",
   "version": "3.12.9"
  }
 },
 "nbformat": 4,
 "nbformat_minor": 2
}
