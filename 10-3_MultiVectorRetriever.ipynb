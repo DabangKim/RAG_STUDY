{
 "cells": [
  {
   "cell_type": "markdown",
   "metadata": {},
   "source": [
    "### ChromaDB에 벡터 저장"
   ]
  },
  {
   "cell_type": "code",
   "execution_count": 1,
   "metadata": {},
   "outputs": [
    {
     "name": "stderr",
     "output_type": "stream",
     "text": [
      "/opt/anaconda3/envs/RAG_CODE/lib/python3.12/site-packages/tqdm/auto.py:21: TqdmWarning: IProgress not found. Please update jupyter and ipywidgets. See https://ipywidgets.readthedocs.io/en/stable/user_install.html\n",
      "  from .autonotebook import tqdm as notebook_tqdm\n"
     ]
    }
   ],
   "source": [
    "from langchain.document_loaders import PyPDFLoader\n",
    "from langchain_text_splitters import RecursiveCharacterTextSplitter\n",
    "from langchain_huggingface import HuggingFaceEmbeddings\n",
    "from langchain_chroma import Chroma\n",
    "\n",
    "# PDF 파일 로드 및 분할\n",
    "loader = PyPDFLoader(\"data/대한민국헌법(헌법)(제00010호)(19880225).pdf\")\n",
    "pages = loader.load_and_split()\n",
    "\n",
    "# 청크 크기 및 중첩 설정\n",
    "text_splitter = RecursiveCharacterTextSplitter(chunk_size = 500, chunk_overlap = 100)\n",
    "docs = text_splitter.split_documents(pages)\n",
    "\n",
    "# HuggingfaceEmbedding 함수로 Open source 임베딩 모델 로드\n",
    "model_name = \"snunlp/KR-SBERT-V40K-klueNLI-augSTS\"\n",
    "model_kwargs = {'device': 'cpu'}\n",
    "encode_kwargs = {'normalize_embeddings': True}\n",
    "ko_embedding = HuggingFaceEmbeddings(\n",
    "    model_name = model_name,\n",
    "    model_kwargs = model_kwargs,\n",
    "    encode_kwargs = encode_kwargs\n",
    ")\n",
    "\n",
    "# ChromaDB에 저장하기 위한 인스턴스 생성\n",
    "vectorstore = Chroma(\n",
    "    collection_name = \"full_documents\",\n",
    "    embedding_function = ko_embedding\n",
    ")"
   ]
  },
  {
   "cell_type": "markdown",
   "metadata": {},
   "source": [
    "### MutliVectorRetriever 생성\n",
    "사용자의 질문과 유사한 문서를 찾을 때 하위 청크를 검색하고 이를 기반으로 상위 청크를 호출하여 LLM에게 더 완전한 맥락의 정보를 전달\n",
    "- retriever.vectorstore의 similarity_search() 함수 실행 결과는 하위 청크 검색 결과를 반환\n",
    "- retriever의 get_relevant_documents() 함수 실행 결과는 상위 청크 검색 결과를 반환\n",
    "- retriever.vectorstore라는 벡터 DB 기반으로 하위 유사 청크를 검색, retriever에서는 해당 청크들의 문서 ID를 타고 올라가 상위 청크를 반환"
   ]
  },
  {
   "cell_type": "code",
   "execution_count": 2,
   "metadata": {},
   "outputs": [],
   "source": [
    "from langchain.storage import InMemoryByteStore                    # 상위 청크와 하위 청크를 연결하여 저장할 저장소 생성\n",
    "from langchain.retrievers.multi_vector import MultiVectorRetriever # 상위 문서 검색기 생성\n",
    "import uuid                                                        # 문서 ID로 고유한 값을 지정하기 위해 uuid 라이브러리 호출\n",
    "\n",
    "# 상위 문서 저장을 위한 레이어 선언\n",
    "store = InMemoryByteStore()\n",
    "id_key = \"doc_id\"\n",
    "\n",
    "# 상위 문서와 하위 문서를 연결할 키값으로 doc_id 사용\n",
    "retriever = MultiVectorRetriever(\n",
    "    vectorstore = vectorstore,\n",
    "    byte_store = store,\n",
    "    id_key = id_key,\n",
    ")\n",
    "\n",
    "# 문서 ID 생성\n",
    "doc_ids = [str(uuid.uuid4()) for _ in docs]\n",
    "\n",
    "# 하위 청크로 쪼개기 위한 child_text_splitter 지정\n",
    "child_text_splitter = RecursiveCharacterTextSplitter(chunk_size = 300, chunk_overlap = 50)\n",
    "\n",
    "# 상위 청크들을 순회하며 하위 청크로 분할한 후 상위 청크 id 상속\n",
    "sub_docs = []\n",
    "for i, doc in enumerate(docs):\n",
    "    _id = doc_ids[i]\n",
    "    _sub_docs = child_text_splitter.split_documents([doc])\n",
    "    for _doc in _sub_docs:\n",
    "        _doc.metadata[id_key] = _id\n",
    "    sub_docs.extend(_sub_docs)\n",
    "\n",
    "# vectorstore에 하위 청크 추가\n",
    "retriever.vectorstore.add_documents(sub_docs)\n",
    "\n",
    "# docstore에 상위청크 저장할 때, doc_ids 지정\n",
    "retriever.docstore.mset(list(zip(doc_ids, docs)))"
   ]
  },
  {
   "cell_type": "code",
   "execution_count": 3,
   "metadata": {},
   "outputs": [
    {
     "name": "stdout",
     "output_type": "stream",
     "text": [
      "[하위 청크] \n",
      "\n",
      "법제처                                                            2                                                       국가법령정보센터\n",
      "대한민국헌법\n",
      " \n",
      "       제2장 국민의 권리와 의무\n",
      " \n",
      "제10조 모든 국민은 인간으로서의 존엄과 가치를 가지며, 행복을 추구할 권리를 가진다. 국가는 개인이 가지는 불가침\n",
      "의 기본적 인권을 확인하고 이를 보장할 의무를 진다.\n",
      "--------------------------------------------------\n",
      "[상위 청크] \n",
      "\n",
      "법제처                                                            2                                                       국가법령정보센터\n",
      "대한민국헌법\n",
      " \n",
      "       제2장 국민의 권리와 의무\n",
      " \n",
      "제10조 모든 국민은 인간으로서의 존엄과 가치를 가지며, 행복을 추구할 권리를 가진다. 국가는 개인이 가지는 불가침\n",
      "의 기본적 인권을 확인하고 이를 보장할 의무를 진다.\n",
      " \n",
      "제11조 ①모든 국민은 법 앞에 평등하다. 누구든지 성별ㆍ종교 또는 사회적 신분에 의하여 정치적ㆍ경제적ㆍ사회적ㆍ\n",
      "문화적 생활의 모든 영역에 있어서 차별을 받지 아니한다.\n",
      "②사회적 특수계급의 제도는 인정되지 아니하며, 어떠한 형태로도 이를 창설할 수 없다.\n",
      "③훈장등의 영전은 이를 받은 자에게만 효력이 있고, 어떠한 특권도 이에 따르지 아니한다.\n"
     ]
    }
   ],
   "source": [
    "print(\"[하위 청크] \\n\")\n",
    "print(retriever.vectorstore.similarity_search(\"국민의 권리\")[0].page_content)\n",
    "print(\"-\"*50)\n",
    "print(\"[상위 청크] \\n\")\n",
    "print(retriever.invoke(\"국민의 권리\")[0].page_content)"
   ]
  }
 ],
 "metadata": {
  "kernelspec": {
   "display_name": "RAG_CODE",
   "language": "python",
   "name": "python3"
  },
  "language_info": {
   "codemirror_mode": {
    "name": "ipython",
    "version": 3
   },
   "file_extension": ".py",
   "mimetype": "text/x-python",
   "name": "python",
   "nbconvert_exporter": "python",
   "pygments_lexer": "ipython3",
   "version": "3.12.9"
  }
 },
 "nbformat": 4,
 "nbformat_minor": 2
}
