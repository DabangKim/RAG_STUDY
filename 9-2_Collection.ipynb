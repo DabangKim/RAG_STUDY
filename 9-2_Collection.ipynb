{
 "cells": [
  {
   "cell_type": "markdown",
   "metadata": {},
   "source": [
    "### Collection 객체 생성과 문서 저장"
   ]
  },
  {
   "cell_type": "code",
   "execution_count": 1,
   "metadata": {},
   "outputs": [
    {
     "data": {
      "text/plain": [
       "1743428438502729000"
      ]
     },
     "execution_count": 1,
     "metadata": {},
     "output_type": "execute_result"
    }
   ],
   "source": [
    "import chromadb\n",
    "\n",
    "# collection을 저장할 경로 지정\n",
    "client = chromadb.PersistentClient(path = \"collection_example\")\n",
    "\n",
    "# client가 잘 연결되어 있는지 확인\n",
    "client.heartbeat()"
   ]
  },
  {
   "cell_type": "markdown",
   "metadata": {},
   "source": [
    "#### 1. Collection 생성"
   ]
  },
  {
   "cell_type": "code",
   "execution_count": null,
   "metadata": {},
   "outputs": [
    {
     "name": "stderr",
     "output_type": "stream",
     "text": [
      "/opt/anaconda3/envs/RAG_CODE/lib/python3.12/site-packages/tqdm/auto.py:21: TqdmWarning: IProgress not found. Please update jupyter and ipywidgets. See https://ipywidgets.readthedocs.io/en/stable/user_install.html\n",
      "  from .autonotebook import tqdm as notebook_tqdm\n"
     ]
    }
   ],
   "source": [
    "from chromadb.utils import embedding_functions\n",
    "\n",
    "# Huggingface 오픈소스 임베딩 모델 활용\n",
    "embedding_function = embedding_functions.SentenceTransformerEmbeddingFunction(model_name=\"jhgan/ko-sbert-nli\")\n",
    "\n",
    "# collection 생성\n",
    "collection = client.create_collection(name=\"korean_law\", embedding_function=embedding_function)"
   ]
  },
  {
   "cell_type": "markdown",
   "metadata": {},
   "source": [
    "#### 2. Collection에 문서 임베딩 저장"
   ]
  },
  {
   "cell_type": "code",
   "execution_count": 3,
   "metadata": {},
   "outputs": [],
   "source": [
    "from langchain.text_splitter import RecursiveCharacterTextSplitter\n",
    "from langchain.document_loaders import PyPDFLoader\n",
    "\n",
    "\n",
    "# 문서 로드 및 분할\n",
    "loader = PyPDFLoader(\"data/대한민국헌법(헌법)(제00010호)(19880225).pdf\")\n",
    "pages = loader.load_and_split()\n",
    "text_splitter = RecursiveCharacterTextSplitter(chunk_size = 500, chunk_overlap = 100)\n",
    "docs = text_splitter.split_documents(pages)\n",
    "\n",
    "# collection에 문서 추가\n",
    "collection.add(\n",
    "    ids = [str(i) for i in range(len(docs))],\n",
    "    documents=[i.page_content for i in docs],\n",
    "    metadatas=[i.metadata for i in docs]\n",
    ")"
   ]
  },
  {
   "cell_type": "markdown",
   "metadata": {},
   "source": [
    "#### 3. Collection 로드"
   ]
  },
  {
   "cell_type": "code",
   "execution_count": 4,
   "metadata": {},
   "outputs": [
    {
     "data": {
      "text/plain": [
       "Collection(name=korean_law)"
      ]
     },
     "execution_count": 4,
     "metadata": {},
     "output_type": "execute_result"
    }
   ],
   "source": [
    "# name에 collection 이름, embedding_function은 collection 저장 시 지정한 임베딩 모델 지정\n",
    "collection = client.get_collection(name=\"korean_law\", embedding_function=embedding_function)\n",
    "collection"
   ]
  },
  {
   "cell_type": "markdown",
   "metadata": {},
   "source": [
    "### Collection 내 문서 검색"
   ]
  },
  {
   "cell_type": "code",
   "execution_count": 5,
   "metadata": {},
   "outputs": [
    {
     "data": {
      "text/plain": [
       "{'ids': [['8', '4', '5']],\n",
       " 'embeddings': None,\n",
       " 'documents': [['관이 발부한 영장을 제시하여야 한다.\\n \\n제17조 모든 국민은 사생활의 비밀과 자유를 침해받지 아니한다.\\n \\n제18조 모든 국민은 통신의 비밀을 침해받지 아니한다.\\n \\n제19조 모든 국민은 양심의 자유를 가진다.\\n \\n제20조 ①모든 국민은 종교의 자유를 가진다.\\n②국교는 인정되지 아니하며, 종교와 정치는 분리된다.',\n",
       "   '법제처                                                            2                                                       국가법령정보센터\\n대한민국헌법\\n \\n       제2장 국민의 권리와 의무\\n \\n제10조 모든 국민은 인간으로서의 존엄과 가치를 가지며, 행복을 추구할 권리를 가진다. 국가는 개인이 가지는 불가침\\n의 기본적 인권을 확인하고 이를 보장할 의무를 진다.\\n \\n제11조 ①모든 국민은 법 앞에 평등하다. 누구든지 성별ㆍ종교 또는 사회적 신분에 의하여 정치적ㆍ경제적ㆍ사회적ㆍ\\n문화적 생활의 모든 영역에 있어서 차별을 받지 아니한다.\\n②사회적 특수계급의 제도는 인정되지 아니하며, 어떠한 형태로도 이를 창설할 수 없다.\\n③훈장등의 영전은 이를 받은 자에게만 효력이 있고, 어떠한 특권도 이에 따르지 아니한다.',\n",
       "   '②사회적 특수계급의 제도는 인정되지 아니하며, 어떠한 형태로도 이를 창설할 수 없다.\\n③훈장등의 영전은 이를 받은 자에게만 효력이 있고, 어떠한 특권도 이에 따르지 아니한다.\\n \\n제12조 ①모든 국민은 신체의 자유를 가진다. 누구든지 법률에 의하지 아니하고는 체포ㆍ구속ㆍ압수ㆍ수색 또는 심문\\n을 받지 아니하며, 법률과 적법한 절차에 의하지 아니하고는 처벌ㆍ보안처분 또는 강제노역을 받지 아니한다.\\n②모든 국민은 고문을 받지 아니하며, 형사상 자기에게 불리한 진술을 강요당하지 아니한다.\\n③체포ㆍ구속ㆍ압수 또는 수색을 할 때에는 적법한 절차에 따라 검사의 신청에 의하여 법관이 발부한 영장을 제시\\n하여야 한다. 다만, 현행범인인 경우와 장기 3년 이상의 형에 해당하는 죄를 범하고 도피 또는 증거인멸의 염려가\\n있을 때에는 사후에 영장을 청구할 수 있다.\\n④누구든지 체포 또는 구속을 당한 때에는 즉시 변호인의 조력을 받을 권리를 가진다. 다만, 형사피고인이 스스로']],\n",
       " 'uris': None,\n",
       " 'data': None,\n",
       " 'metadatas': [[{'creationdate': '2024-04-01T21:26:24+09:00',\n",
       "    'creator': 'PyPDF',\n",
       "    'moddate': '2024-04-01T21:26:24+09:00',\n",
       "    'page': 1,\n",
       "    'page_label': '2',\n",
       "    'producer': 'iText 2.1.7 by 1T3XT',\n",
       "    'source': 'data/대한민국헌법(헌법)(제00010호)(19880225).pdf',\n",
       "    'total_pages': 14},\n",
       "   {'creationdate': '2024-04-01T21:26:24+09:00',\n",
       "    'creator': 'PyPDF',\n",
       "    'moddate': '2024-04-01T21:26:24+09:00',\n",
       "    'page': 1,\n",
       "    'page_label': '2',\n",
       "    'producer': 'iText 2.1.7 by 1T3XT',\n",
       "    'source': 'data/대한민국헌법(헌법)(제00010호)(19880225).pdf',\n",
       "    'total_pages': 14},\n",
       "   {'creationdate': '2024-04-01T21:26:24+09:00',\n",
       "    'creator': 'PyPDF',\n",
       "    'moddate': '2024-04-01T21:26:24+09:00',\n",
       "    'page': 1,\n",
       "    'page_label': '2',\n",
       "    'producer': 'iText 2.1.7 by 1T3XT',\n",
       "    'source': 'data/대한민국헌법(헌법)(제00010호)(19880225).pdf',\n",
       "    'total_pages': 14}]],\n",
       " 'distances': [[498.65322434669963, 501.51854712337644, 542.8255928504302]],\n",
       " 'included': [<IncludeEnum.distances: 'distances'>,\n",
       "  <IncludeEnum.documents: 'documents'>,\n",
       "  <IncludeEnum.metadatas: 'metadatas'>]}"
      ]
     },
     "execution_count": 5,
     "metadata": {},
     "output_type": "execute_result"
    }
   ],
   "source": [
    "# query_texts는 검색할 쿼리\n",
    "# n_results는 검색할 결과 개수\n",
    "# where는 메타데이터 조건\n",
    "# 1 페이지에서 직업 선택의 자유와 유사한 청크 3개 검색\n",
    "collection.query(\n",
    "    query_texts = [\"직업 선택의 자유\"],\n",
    "    n_results = 3,\n",
    "    where = {\"page\": 1},\n",
    ")"
   ]
  },
  {
   "cell_type": "code",
   "execution_count": 6,
   "metadata": {},
   "outputs": [
    {
     "data": {
      "text/plain": [
       "{'ids': [['47', '49', '48']],\n",
       " 'embeddings': None,\n",
       " 'documents': [['사항은 법률로 정한다.\\n \\n       제9장 경제\\n \\n제119조 ①대한민국의 경제질서는 개인과 기업의 경제상의 자유와 창의를 존중함을 기본으로 한다.\\n②국가는 균형있는 국민경제의 성장 및 안정과 적정한 소득의 분배를 유지하고, 시장의 지배와 경제력의 남용을 방\\n지하며, 경제주체간의 조화를 통한 경제의 민주화를 위하여 경제에 관한 규제와 조정을 할 수 있다.\\n \\n제120조 ①광물 기타 중요한 지하자원ㆍ수산자원ㆍ수력과 경제상 이용할 수 있는 자연력은 법률이 정하는 바에 의하\\n여 일정한 기간 그 채취ㆍ개발 또는 이용을 특허할 수 있다.\\n②국토와 자원은 국가의 보호를 받으며, 국가는 그 균형있는 개발과 이용을 위하여 필요한 계획을 수립한다.\\n \\n제121조 ①국가는 농지에 관하여 경자유전의 원칙이 달성될 수 있도록 노력하여야 하며, 농지의 소작제도는 금지된다.\\n②농업생산성의 제고와 농지의 합리적인 이용을 위하거나 불가피한 사정으로 발생하는 농지의 임대차와 위탁경영',\n",
       "   '법제처                                                            13                                                       국가법령정보센터\\n대한민국헌법\\n⑤국가는 농ㆍ어민과 중소기업의 자조조직을 육성하여야 하며, 그 자율적 활동과 발전을 보장한다.\\n \\n제124조 국가는 건전한 소비행위를 계도하고 생산품의 품질향상을 촉구하기 위한 소비자보호운동을 법률이 정하는 바\\n에 의하여 보장한다.\\n \\n제125조 국가는 대외무역을 육성하며, 이를 규제ㆍ조정할 수 있다.\\n \\n제126조 국방상 또는 국민경제상 긴절한 필요로 인하여 법률이 정하는 경우를 제외하고는, 사영기업을 국유 또는 공유\\n로 이전하거나 그 경영을 통제 또는 관리할 수 없다.\\n \\n제127조 ①국가는 과학기술의 혁신과 정보 및 인력의 개발을 통하여 국민경제의 발전에 노력하여야 한다.\\n②국가는 국가표준제도를 확립한다.',\n",
       "   '②농업생산성의 제고와 농지의 합리적인 이용을 위하거나 불가피한 사정으로 발생하는 농지의 임대차와 위탁경영\\n은 법률이 정하는 바에 의하여 인정된다.\\n \\n제122조 국가는 국민 모두의 생산 및 생활의 기반이 되는 국토의 효율적이고 균형있는 이용ㆍ개발과 보전을 위하여 법\\n률이 정하는 바에 의하여 그에 관한 필요한 제한과 의무를 과할 수 있다.\\n \\n제123조 ①국가는 농업 및 어업을 보호ㆍ육성하기 위하여 농ㆍ어촌종합개발과 그 지원등 필요한 계획을 수립ㆍ시행하\\n여야 한다.\\n②국가는 지역간의 균형있는 발전을 위하여 지역경제를 육성할 의무를 진다.\\n③국가는 중소기업을 보호ㆍ육성하여야 한다.\\n④국가는 농수산물의 수급균형과 유통구조의 개선에 노력하여 가격안정을 도모함으로써 농ㆍ어민의 이익을 보호\\n한다.']],\n",
       " 'uris': None,\n",
       " 'data': None,\n",
       " 'metadatas': [[{'creationdate': '2024-04-01T21:26:24+09:00',\n",
       "    'creator': 'PyPDF',\n",
       "    'moddate': '2024-04-01T21:26:24+09:00',\n",
       "    'page': 11,\n",
       "    'page_label': '12',\n",
       "    'producer': 'iText 2.1.7 by 1T3XT',\n",
       "    'source': 'data/대한민국헌법(헌법)(제00010호)(19880225).pdf',\n",
       "    'total_pages': 14},\n",
       "   {'creationdate': '2024-04-01T21:26:24+09:00',\n",
       "    'creator': 'PyPDF',\n",
       "    'moddate': '2024-04-01T21:26:24+09:00',\n",
       "    'page': 12,\n",
       "    'page_label': '13',\n",
       "    'producer': 'iText 2.1.7 by 1T3XT',\n",
       "    'source': 'data/대한민국헌법(헌법)(제00010호)(19880225).pdf',\n",
       "    'total_pages': 14},\n",
       "   {'creationdate': '2024-04-01T21:26:24+09:00',\n",
       "    'creator': 'PyPDF',\n",
       "    'moddate': '2024-04-01T21:26:24+09:00',\n",
       "    'page': 11,\n",
       "    'page_label': '12',\n",
       "    'producer': 'iText 2.1.7 by 1T3XT',\n",
       "    'source': 'data/대한민국헌법(헌법)(제00010호)(19880225).pdf',\n",
       "    'total_pages': 14}]],\n",
       " 'distances': [[505.6745548332922, 515.1322620202277, 530.3169633863965]],\n",
       " 'included': [<IncludeEnum.distances: 'distances'>,\n",
       "  <IncludeEnum.documents: 'documents'>,\n",
       "  <IncludeEnum.metadatas: 'metadatas'>]}"
      ]
     },
     "execution_count": 6,
     "metadata": {},
     "output_type": "execute_result"
    }
   ],
   "source": [
    "# $eq - 일치 (string, int, float)\n",
    "# $ne - 불일치 (string, int, float)\n",
    "# $gt - 초과 (int, float)\n",
    "# $gte - 이상 (int, float)\n",
    "# $lt - 미만 (int, float)\n",
    "# $lte - 이하 (int, float)\n",
    "# 5 페이지 이후의 청크 중에서 직업 선택의 자유와 관련한 문서 3개 검색\n",
    "collection.query(\n",
    "    query_texts = [\"직업 선택의 자유\"],\n",
    "    n_results = 3,\n",
    "    where = {\"page\": {\"$gte\": 5}}\n",
    ")"
   ]
  },
  {
   "cell_type": "code",
   "execution_count": 7,
   "metadata": {},
   "outputs": [
    {
     "data": {
      "text/plain": [
       "{'ids': [['7']],\n",
       " 'embeddings': None,\n",
       " 'documents': [['아니라고 인정될 때 또는 정식재판에 있어서 피고인의 자백이 그에게 불리한 유일한 증거일 때에는 이를 유죄의 증\\n거로 삼거나 이를 이유로 처벌할 수 없다.\\n \\n제13조 ①모든 국민은 행위시의 법률에 의하여 범죄를 구성하지 아니하는 행위로 소추되지 아니하며, 동일한 범죄에\\n대하여 거듭 처벌받지 아니한다.\\n②모든 국민은 소급입법에 의하여 참정권의 제한을 받거나 재산권을 박탈당하지 아니한다.\\n③모든 국민은 자기의 행위가 아닌 친족의 행위로 인하여 불이익한 처우를 받지 아니한다.\\n \\n제14조 모든 국민은 거주ㆍ이전의 자유를 가진다.\\n \\n제15조 모든 국민은 직업선택의 자유를 가진다.\\n \\n제16조 모든 국민은 주거의 자유를 침해받지 아니한다. 주거에 대한 압수나 수색을 할 때에는 검사의 신청에 의하여 법\\n관이 발부한 영장을 제시하여야 한다.\\n \\n제17조 모든 국민은 사생활의 비밀과 자유를 침해받지 아니한다.\\n \\n제18조 모든 국민은 통신의 비밀을 침해받지 아니한다.']],\n",
       " 'uris': None,\n",
       " 'data': None,\n",
       " 'metadatas': [[{'creationdate': '2024-04-01T21:26:24+09:00',\n",
       "    'creator': 'PyPDF',\n",
       "    'moddate': '2024-04-01T21:26:24+09:00',\n",
       "    'page': 1,\n",
       "    'page_label': '2',\n",
       "    'producer': 'iText 2.1.7 by 1T3XT',\n",
       "    'source': 'data/대한민국헌법(헌법)(제00010호)(19880225).pdf',\n",
       "    'total_pages': 14}]],\n",
       " 'distances': [[566.5131436867309]],\n",
       " 'included': [<IncludeEnum.distances: 'distances'>,\n",
       "  <IncludeEnum.documents: 'documents'>,\n",
       "  <IncludeEnum.metadatas: 'metadatas'>]}"
      ]
     },
     "execution_count": 7,
     "metadata": {},
     "output_type": "execute_result"
    }
   ],
   "source": [
    "collection.query(\n",
    "    query_texts = [\"직업 선택의 자유\"],\n",
    "    n_results = 3,\n",
    "    where = {\"page\": 1},\n",
    "    where_document = {\"$contains\": \"직업\"}\n",
    ")"
   ]
  }
 ],
 "metadata": {
  "kernelspec": {
   "display_name": "RAG_CODE",
   "language": "python",
   "name": "python3"
  },
  "language_info": {
   "codemirror_mode": {
    "name": "ipython",
    "version": 3
   },
   "file_extension": ".py",
   "mimetype": "text/x-python",
   "name": "python",
   "nbconvert_exporter": "python",
   "pygments_lexer": "ipython3",
   "version": "3.12.9"
  }
 },
 "nbformat": 4,
 "nbformat_minor": 2
}
