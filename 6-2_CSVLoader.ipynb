{
 "cells": [
  {
   "cell_type": "code",
   "execution_count": 3,
   "metadata": {},
   "outputs": [
    {
     "data": {
      "text/plain": [
       "'Team: Nationals\\n\"Payroll (millions)\": 81.34\\n\"Wins\": 98'"
      ]
     },
     "execution_count": 3,
     "metadata": {},
     "output_type": "execute_result"
    }
   ],
   "source": [
    "# CSVLoader 불러오기\n",
    "from langchain.document_loaders.csv_loader import CSVLoader\n",
    "\n",
    "# CSVLoader로 CSV 파일 불러오기\n",
    "loader = CSVLoader(\"data/mlb_teams_2012.csv\")\n",
    "\n",
    "# CSV 파일의 내용을 Document 객체로 변환\n",
    "data = loader.load()\n",
    "\n",
    "# Document 객체의 내용 출력\n",
    "data[0].page_content"
   ]
  },
  {
   "cell_type": "code",
   "execution_count": 4,
   "metadata": {},
   "outputs": [
    {
     "data": {
      "text/plain": [
       "{'source': 'data/mlb_teams_2012.csv', 'row': 0}"
      ]
     },
     "execution_count": 4,
     "metadata": {},
     "output_type": "execute_result"
    }
   ],
   "source": [
    "# Document 객체의 메타데이터 출력\n",
    "data[0].metadata"
   ]
  }
 ],
 "metadata": {
  "kernelspec": {
   "display_name": "RAG_CODE",
   "language": "python",
   "name": "python3"
  },
  "language_info": {
   "codemirror_mode": {
    "name": "ipython",
    "version": 3
   },
   "file_extension": ".py",
   "mimetype": "text/x-python",
   "name": "python",
   "nbconvert_exporter": "python",
   "pygments_lexer": "ipython3",
   "version": "3.12.9"
  }
 },
 "nbformat": 4,
 "nbformat_minor": 2
}
