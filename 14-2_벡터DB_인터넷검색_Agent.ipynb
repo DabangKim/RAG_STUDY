{
 "cells": [
  {
   "cell_type": "markdown",
   "id": "2b05775a",
   "metadata": {},
   "source": [
    "### Tavily AI를 인터넷 검색 Tool로 설정"
   ]
  },
  {
   "cell_type": "code",
   "execution_count": 1,
   "id": "d2b8c334",
   "metadata": {},
   "outputs": [],
   "source": [
    "import os\n",
    "from dotenv import load_dotenv\n",
    "from langchain_community.tools.tavily_search import TavilySearchResults\n",
    "\n",
    "# API Key 환경변수 설정\n",
    "load_dotenv()\n",
    "os.environ['TAVILY_API_KEY'] = os.getenv(\"TAVILY_API_KEY\")\n",
    "os.environ['OPENAI_API_KEY'] = os.getenv(\"OPENAI_API_KEY\")\n",
    "\n",
    "# Tavily 검색 API를 Tool로 호출\n",
    "search = TavilySearchResults()"
   ]
  },
  {
   "cell_type": "markdown",
   "id": "a882671b",
   "metadata": {},
   "source": [
    "### 벡터 DB 구축"
   ]
  },
  {
   "cell_type": "code",
   "execution_count": 2,
   "id": "3e44cd3f",
   "metadata": {},
   "outputs": [],
   "source": [
    "from langchain.document_loaders import PyPDFLoader\n",
    "from langchain.vectorstores import FAISS\n",
    "from langchain_openai import OpenAIEmbeddings\n",
    "from langchain_text_splitters import RecursiveCharacterTextSplitter\n",
    "\n",
    "loader = PyPDFLoader(\"data/★육아휴직제도 사용안내서_배포.pdf\")\n",
    "docs = loader.load()\n",
    "documents = RecursiveCharacterTextSplitter(chunk_size=1000, chunk_overlap=200).split_documents(docs)\n",
    "vector = FAISS.from_documents(documents, OpenAIEmbeddings())\n",
    "retriever = vector.as_retriever()"
   ]
  },
  {
   "cell_type": "markdown",
   "id": "72d2e173",
   "metadata": {},
   "source": [
    "### create_retriever_tool로 벡터 DB 검색 툴 설정"
   ]
  },
  {
   "cell_type": "code",
   "execution_count": 3,
   "id": "97a8a72c",
   "metadata": {},
   "outputs": [],
   "source": [
    "from langchain.tools.retriever import create_retriever_tool\n",
    "\n",
    "# 벡터 DB 검색을 위한 검색 도구 설정\n",
    "# 검색할 대상인 Retriever, 검색 Tool의 이름, Tool에 대한 설명을 인자로 설정\n",
    "retriever_tool = create_retriever_tool(\n",
    "    retriever,\n",
    "    \"parental_leave\",\n",
    "    \"육아휴직과 관련한 정보를 검색합니다. 육아 휴직 관련한 질문이 입력되면 이 도구를 사용합니다.\",\n",
    ")"
   ]
  },
  {
   "cell_type": "markdown",
   "id": "e4d0b1ea",
   "metadata": {},
   "source": [
    "### Agent 구축"
   ]
  },
  {
   "cell_type": "code",
   "execution_count": 4,
   "id": "8a46347b",
   "metadata": {},
   "outputs": [
    {
     "name": "stderr",
     "output_type": "stream",
     "text": [
      "/opt/anaconda3/envs/RAG_CODE/lib/python3.12/site-packages/langsmith/client.py:277: LangSmithMissingAPIKeyWarning: API key must be provided when using hosted LangSmith API\n",
      "  warnings.warn(\n"
     ]
    }
   ],
   "source": [
    "from langchain_openai import ChatOpenAI\n",
    "from langchain import hub\n",
    "from langchain.agents import create_openai_tools_agent\n",
    "from langchain.agents import AgentExecutor\n",
    "\n",
    "tools = [search, retriever_tool]\n",
    "llm = ChatOpenAI(model=\"gpt-4o-mini\", temperature=0.7)\n",
    "prompt = hub.pull(\"hwchase17/openai-functions-agent\")\n",
    "agent = create_openai_tools_agent(llm, tools, prompt)\n",
    "agent_executor = AgentExecutor(agent=agent, tools=tools, verbose=True)"
   ]
  },
  {
   "cell_type": "code",
   "execution_count": 6,
   "id": "bab8b830",
   "metadata": {},
   "outputs": [
    {
     "name": "stdout",
     "output_type": "stream",
     "text": [
      "\n",
      "\n",
      "\u001b[1m> Entering new AgentExecutor chain...\u001b[0m\n",
      "\u001b[32;1m\u001b[1;3m\n",
      "Invoking: `parental_leave` with `{'query': '육아휴직 사용 방법'}`\n",
      "\n",
      "\n",
      "\u001b[0m\u001b[33;1m\u001b[1;3m육아휴직중\n",
      "일하는 엄마, 아빠를 위한 \n",
      "육아휴직제도\n",
      "사용안내서\n",
      "육아휴직은 임신 중인 여성 근로자나, \n",
      "8세 또는 초등학교 2학년 이하 자녀를 가진 근로자라면 \n",
      "누구나 사용할 수 있는 당연한 권리입니다.\n",
      "\n",
      "일하는 엄마, 아빠를 위한 \n",
      "육아휴직제도\n",
      "사용안내서\n",
      "육아휴직 등으로 불리한 처우를 받았다면 \n",
      "전국 지방고용노동관서에서 운영 중인 \n",
      "‘모성보호 신고센터’에 신고해주세요!\n",
      "\n",
      "육아휴직제도는?\n",
      "임신 중인 여성 근로자나, 8세 또는 초등학교 2학년 이하 자녀를 가진 근로자가 \n",
      "자녀 양육을 위해 최대 1년간 육아휴직을 사용할 수 있는 제도입니다. \n",
      "육아휴직급여는?\n",
      "육아휴직을 사용한 근로자에게 1년간 통상임금의 80%를 지원합니다.\n",
      " * 월 상한액 150만 원, 하한액 70만 원 \n",
      "‘3+3 부모육아휴직제’도 있어요\n",
      "생후 12개월 이내 자녀 돌봄을 위해 부모 모두 육아휴직을 \n",
      "사용하는 경우 육아휴직급여 중 첫 3개월은 부모에게  \n",
      "각각 통상임금의 100%를 지원합니다.\n",
      "  1개월 상한액 200만 원 \n",
      " 2개월 상한액 250만 원  \n",
      " 3개월 상한액 300만 원  \n",
      "통상임금이란?\n",
      "근로자에게 정기적이고 일률적으로 소정근로 또는 총 근로에 대하여 지급하기로 정한 \n",
      "금액을 의미합니다.(근로기준법 시행령 제6조제1항)\n",
      "  통상임금은 초과근로수당 산정 등을 위한 기초임금으로서, 정기적·일률적·고정적\n",
      "으로 지급되는 것인지를 기준으로 판단합니다.\n",
      " Tip\n",
      "\n",
      "육아휴직 관련 자주 묻는 질문들\n",
      "1   육아휴직을 신청해도 사업주가 허용해주지 않는데, 어떻게 하나요？\n",
      "  육아휴직은 근로자의 권리이므로 요건을 갖춰 회사에 신청하면 \n",
      "사업주는 반드시 허용해야 합니다.\n",
      "   사업주가 육아휴직을 허용하지 않는 경우, 법률에 따라 500만 원 \n",
      "이하의 벌금이 부과됩니다.(관련 신고절차는 Ⅳ~Ⅴ. 참조)\n",
      "       * (예외) 근로기간이 6개월 미만인 경우는 제외\n",
      "2   육아휴직 신청에 대해 회사에서 아무런 답변이 없는데 어떻게 하나요?\n",
      "  근로자가 적법하게 육아휴직을 신청했는데 사업주가 허용 여부를 \n",
      "알려주지 않으면, 육아휴직을 묵시적으로 승인한 것으로 봅니다.\n",
      " 사업주 승인 없이 육아휴직을 개시한 경우 [여성고용정책과－4044, 2017.10.30.] \n",
      "  질의  근로기준법에 근거하여 근로자가 신청한 유산·사산휴가 또는 출산전후휴가를 사용자가 \n",
      "거부하였음에도 근로자가 휴가 개시 예정일에 휴가를 개시한 경우 이를 정당한 휴가 사용으로 \n",
      "볼 수 있는지 여부\n",
      "   회시  \n",
      " 1) 근로자 청구에 대해 사업주의 명시적 의사표시가 없는 경우\n",
      "    관계법령상 요건을 갖춘 근로자가 유산·사산휴가 또는 육아휴직을 신청하면, 허용 제외사유에 \n",
      "해당하는 등 특별한 사정이 없는 한 사업주는 승낙할 의무가 있으며, 별도의 시기 변경권도 \n",
      "인정되지 아니함. 따라서, 사업주가 근로자의 유산·사산휴가 또는 육아휴직 청구 사실을 알았음\n",
      "에도 특별한 사정없이 별도의 의사표시를 하지 않았다면 묵시적으로 승인한 것으로 봄이 타당\n",
      "하다고 할 것임.\n",
      "2) 근로자의 청구에 대해 사업주가 거부 의사표시를 하는 경우\n",
      "    유산·사산휴가 또는 육아휴직의 요건을 갖춘 근로자의 청구에 대하여 사업주가 정당한 이유 \n",
      "없이 그 청구를 거부하였다면 해당 휴가 및 휴직이 바로 개시된다고 볼 수 없음. 그러나 이 \n",
      "경우 사업주는 정당한 이유 없이 유산·사산휴가 또는 육아휴직을 미부여한 것에 대하여 관련 \n",
      "법률에 따라 처벌을 받을 수 있음.\n",
      "관련 질의회시\u001b[0m\u001b[32;1m\u001b[1;3m육아휴직은 임신 중인 여성 근로자나 8세 이하 또는 초등학교 2학년 이하 자녀를 가진 근로자가 자녀 양육을 위해 사용할 수 있는 제도입니다. 육아휴직을 통해 최대 1년간 휴직할 수 있으며, 육아휴직급여로는 통상임금의 80%를 지원받습니다. 다만, 월급여는 상한액 150만 원, 하한액 70만 원으로 제한됩니다.\n",
      "\n",
      "또한, ‘3+3 부모육아휴직제’를 통해 부모가 모두 육아휴직을 사용할 경우, 첫 3개월 동안 각각 통상임금의 100%를 지원받을 수 있습니다. 이 경우 1개월 상한액은 200만 원, 2개월은 250만 원, 3개월은 300만 원입니다.\n",
      "\n",
      "육아휴직은 근로자의 권리이므로, 해당 요건을 갖춰 신청하면 사업주는 반드시 허용해야 하며, 이를 거부할 경우 법적으로 벌금이 부과될 수 있습니다. 만약 신청 후 사업주가 아무런 답변을 하지 않는 경우, 이는 묵시적으로 승인된 것으로 간주됩니다.\n",
      "\n",
      "육아휴직을 신청할 때는 관련 법률과 절차를 잘 이해하고, 필요한 경우 적절한 신고를 통해 권리를 보호할 수 있습니다.\u001b[0m\n",
      "\n",
      "\u001b[1m> Finished chain.\u001b[0m\n"
     ]
    },
    {
     "data": {
      "text/plain": [
       "{'input': '육아휴직은 어떻게 사용할 수 있어?',\n",
       " 'output': '육아휴직은 임신 중인 여성 근로자나 8세 이하 또는 초등학교 2학년 이하 자녀를 가진 근로자가 자녀 양육을 위해 사용할 수 있는 제도입니다. 육아휴직을 통해 최대 1년간 휴직할 수 있으며, 육아휴직급여로는 통상임금의 80%를 지원받습니다. 다만, 월급여는 상한액 150만 원, 하한액 70만 원으로 제한됩니다.\\n\\n또한, ‘3+3 부모육아휴직제’를 통해 부모가 모두 육아휴직을 사용할 경우, 첫 3개월 동안 각각 통상임금의 100%를 지원받을 수 있습니다. 이 경우 1개월 상한액은 200만 원, 2개월은 250만 원, 3개월은 300만 원입니다.\\n\\n육아휴직은 근로자의 권리이므로, 해당 요건을 갖춰 신청하면 사업주는 반드시 허용해야 하며, 이를 거부할 경우 법적으로 벌금이 부과될 수 있습니다. 만약 신청 후 사업주가 아무런 답변을 하지 않는 경우, 이는 묵시적으로 승인된 것으로 간주됩니다.\\n\\n육아휴직을 신청할 때는 관련 법률과 절차를 잘 이해하고, 필요한 경우 적절한 신고를 통해 권리를 보호할 수 있습니다.'}"
      ]
     },
     "execution_count": 6,
     "metadata": {},
     "output_type": "execute_result"
    }
   ],
   "source": [
    "# 벡터DB를 활용하는 질문\n",
    "agent_executor.invoke({\"input\": \"육아휴직은 어떻게 사용할 수 있어?\"})"
   ]
  },
  {
   "cell_type": "code",
   "execution_count": 7,
   "id": "e247578f",
   "metadata": {},
   "outputs": [
    {
     "name": "stdout",
     "output_type": "stream",
     "text": [
      "\n",
      "\n",
      "\u001b[1m> Entering new AgentExecutor chain...\u001b[0m\n",
      "\u001b[32;1m\u001b[1;3m\n",
      "Invoking: `tavily_search_results_json` with `{'query': '현재 대한민국 인구'}`\n",
      "\n",
      "\n",
      "\u001b[0m\u001b[36;1m\u001b[1;3m[{'title': '대한민국의 인구 - 위키백과, 우리 모두의 백과사전', 'url': 'https://ko.wikipedia.org/wiki/%EB%8C%80%ED%95%9C%EB%AF%BC%EA%B5%AD%EC%9D%98_%EC%9D%B8%EA%B5%AC', 'content': \"목차\\n\\n대한민국의 인구\\n\\n대한민국의 인구는 아시아에서는 13번째, 세계에서는 29번째로 인구가 많은 나라이다. 1949년 정부수립 직후 2000만 명, 1967년에 3000만 명, 1983년에 4000만 명, 2012년 6월 23일[1]에 5000만 명을 넘었으며, 2020년부터 현재까지 인구가 감소하고 있다.\\n\\n인구피라미드 유형은 유소년인구가 감소하고, 노년인구가 증가함에 따라 인구 구조가 1950~70년대 '피라미드형', 1980~2010년대 '종형', 2020년대 이후로는 초저출산 심화에 따라 '항아리형' 내지 '역피라미드형'으로 변화하고 있다. [...] | 2020 통계청 인구주택총조사 연령 및 성별 인구\\n총인구 | 남자 | 여자 | 성비 | 내국인 | 내국인-남자 | 내국인-여자 | 내국인-성비\\n전체 | 51,829,136 | 25,915,207 | 25,913,929 | 100.0 | 50,133,493 | 24,972,588 | 25,160,905 | 99.3\\n0~4세 | 1,722,081 | 883,196 | 838,885 | 105.3 | 1,684,917 | 864,276 | 820,641 | 105.3\\n5~9세 | 2,264,595 | 1,161,247 | 1,103,348 | 105.2 | 2,238,916 | 1,148,248 | 1,090,668 | 105.3\\n10~14세 | 2,267,481 | 1,168,937 | 1,098,544 | 106.4 | 2,252,113 | 1,161,098 | 1,091,015 | 106.4 [...] 다음은 2019년 유엔 경제사회국에서 공표한 '세계 인구 전망 2019'에 따른 것으로[29], 전술되었듯 행정안전부 통계와 달리, 주민등록이 되지 않은 외국인까지 모두 포함하고 있다. 2019년 기준, 한국의 인구는 5120만 명이며, 2020년부터 자연감소가 발생하며, 2025년부터 총인구가 감소할 전망이다.[30]\\n\\n총인구: 5120만 명\\n\\n15세 미만 인구: 12.80%\\n\\n15~24세 인구: 11.60%\\n\\n25~64세 인구: 60.60%\\n\\n65세 이상 인구: 15.1%\\n\\n노인 부양 가능 인구(65세 이상 노인 1명당 25~64세 노동 인구): 4.0명\\n\\n인구 성장률: 0.1%\\n\\n조출생률(인구 1000명당): 7.2명\\n\\n합계출산율: 1.09명\\n\\n조사망률(인구 1000명당): 6.2명\\n\\n영아사망률(1살 미만 1000명당): 2.0명\\n\\n유아사망률(5세 미만 1000명당): 2.0명\\n\\n기대수명: 83.0세\\n\\n지역별 가구 통계\\n\\n가구원수별 가구\", 'score': 0.95176035}, {'title': '대한민국/인구 - 나무위키', 'url': 'https://namu.wiki/w/%EB%8C%80%ED%95%9C%EB%AF%BC%EA%B5%AD/%EC%9D%B8%EA%B5%AC', 'content': '대한민국의 인구를 정리한 문서다. 2025년 3월 기준으로 대한민국의 총 인구수는 51,183,336명이다. 이 중 남자 인구수는 25,479,498명이고, 여자 인구수는 25,703,838', 'score': 0.90102744}, {'title': '인구상황판 | 인구로 보는 대한민국 - KOSIS 국가통계포털', 'url': 'https://kosis.kr/visual/populationKorea/PopulationDashBoardMain.do', 'content': '유소년인구0-14세42.3%\\n생산연령인구15-64세54.8%\\n고령인구65세 이상2.9%\\n\\n총부양비생산연령인구 100명당자세히보기\\n유소년77.3 더하기 노년5.3 는 전체82.6\\n노령화지수유소년인구 100명당자세히보기\\n6.9\\n현재\\n2025\\n우리나라 총인구\\n51,684,564명\\n인구피라미드\\n40세 1972년생\\n중위가정\\n남 52% 459,989명 여 52% 459,989명 성비(여성1백명당) 102.3명 중위연령43세\\n중위연령\\n보이기 안보이기\\n간략정보보기\\n인구피라미드는 성별, 연령별 인구구조의 분포를 한 번에 파악할 수 있도록 표현한 그래프 형태입니다.\\n또한 인구 구조가 출생, 사망, 이동 등 요인의 시나리오에 따라 어떻게 변화하는지 상세화면에서 더 살펴볼 수 있습니다.\\n* 1999년 이전 자료는 80세 이상으로, 2000년 이후 자료는 100세 이상으로 제공하고 있습니다.\\n* 통계 출처 : 통계청, 장래인구추계 간략정보닫기\\n차트로 돌아가기 자세히보기\\n연령계층별 구성비자세히보기 [...] 인구상황판\\n과거\\n연도 연도변경 1960 1961 1962 1963 1964 1965 1966 1967 1968 1969 1970 1971 1972 1973 1974 1975 1976 1977 1978 1979 1980 1981 1982 1983 1984 1985 1986 1987 1988 1989 1990 1991 1992 1993 1994 1995 1996 1997 1998 1999 2000 2001 2002 2003 2004 2005 2006 2007 2008 2009 2010 2011 2012 2013 2014 2015 2016 2017 2018 2019 2020 2021 2022 2023 2024\\n우리나라 총인구\\n25,012,374명\\n인구피라미드\\n40세 1972년생\\n중위가정\\n남 52% 459,989명 여 52% 459,989명 성비(여성1백명당) 102.3명 중위연령43세\\n중위연령\\n보이기 안보이기\\n간략정보보기 [...] 총부양비생산연령인구 100명당자세히보기\\n유소년14.6 더하기 노년29.3 는 전체43.9\\n노령화지수유소년인구 100명당자세히보기\\n199.9\\n미래\\n연도 연도변경 2072 2071 2070 2069 2068 2067 2066 2065 2064 2063 2062 2061 2060 2059 2058 2057 2056 2055 2054 2053 2052 2051 2050 2049 2048 2047 2046 2045 2044 2043 2042 2041 2040 2039 2038 2037 2036 2035 2034 2033 2032 2031 2030 2029 2028 2027 2026\\n우리나라 총인구\\n36,222,293명\\n인구피라미드\\n40세 1972년생\\n중위가정\\n남 52% 459,989명 여 52% 459,989명 성비(여성1백명당) 102.3명 중위연령43세\\n중위연령\\n보이기 안보이기\\n간략정보보기', 'score': 0.8846886}]\u001b[0m\u001b[32;1m\u001b[1;3m현재 대한민국의 총 인구는 약 51,684,564명입니다. 인구는 2020년부터 감소세를 보이고 있으며, 노인 인구가 증가하고 유소년 인구가 감소하는 구조적 변화가 나타나고 있습니다. \n",
      "\n",
      "더 자세한 정보는 [위키백과](https://ko.wikipedia.org/wiki/%EB%8C%80%ED%95%9C%EB%AF%BC%EA%B5%AD%EC%9D%98_%EC%9D%B8%EA%B5%AC)와 [나무위키](https://namu.wiki/w/%EB%8C%80%ED%95%9C%EB%AF%BC%EA%B5%AD/%EC%9D%B8%EA%B5%AC)에서 확인하실 수 있습니다.\u001b[0m\n",
      "\n",
      "\u001b[1m> Finished chain.\u001b[0m\n"
     ]
    },
    {
     "data": {
      "text/plain": [
       "{'input': '현재 대한민국의 인구는 몇명이야?',\n",
       " 'output': '현재 대한민국의 총 인구는 약 51,684,564명입니다. 인구는 2020년부터 감소세를 보이고 있으며, 노인 인구가 증가하고 유소년 인구가 감소하는 구조적 변화가 나타나고 있습니다. \\n\\n더 자세한 정보는 [위키백과](https://ko.wikipedia.org/wiki/%EB%8C%80%ED%95%9C%EB%AF%BC%EA%B5%AD%EC%9D%98_%EC%9D%B8%EA%B5%AC)와 [나무위키](https://namu.wiki/w/%EB%8C%80%ED%95%9C%EB%AF%BC%EA%B5%AD/%EC%9D%B8%EA%B5%AC)에서 확인하실 수 있습니다.'}"
      ]
     },
     "execution_count": 7,
     "metadata": {},
     "output_type": "execute_result"
    }
   ],
   "source": [
    "# 인터넷 검색을 활용하는 질문\n",
    "agent_executor.invoke({\"input\": \"현재 대한민국의 인구는 몇명이야?\"})"
   ]
  }
 ],
 "metadata": {
  "kernelspec": {
   "display_name": "RAG_CODE",
   "language": "python",
   "name": "python3"
  },
  "language_info": {
   "codemirror_mode": {
    "name": "ipython",
    "version": 3
   },
   "file_extension": ".py",
   "mimetype": "text/x-python",
   "name": "python",
   "nbconvert_exporter": "python",
   "pygments_lexer": "ipython3",
   "version": "3.12.9"
  }
 },
 "nbformat": 4,
 "nbformat_minor": 5
}
