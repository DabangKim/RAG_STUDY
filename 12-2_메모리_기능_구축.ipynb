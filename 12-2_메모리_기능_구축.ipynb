{
 "cells": [
  {
   "cell_type": "markdown",
   "id": "804b84d1",
   "metadata": {},
   "source": [
    "### 필요한 라이브러리 호출"
   ]
  },
  {
   "cell_type": "code",
   "execution_count": 1,
   "id": "e9b42b32",
   "metadata": {},
   "outputs": [],
   "source": [
    "from langchain.document_loaders import PyPDFLoader\n",
    "from langchain_huggingface import HuggingFaceEmbeddings\n",
    "from langchain_experimental.text_splitter import SemanticChunker\n",
    "from langchain_ollama import ChatOllama\n",
    "from langchain_chroma import Chroma\n",
    "from langchain.retrievers.multi_query import MultiQueryRetriever\n",
    "from langchain.prompts import ChatPromptTemplate, MessagesPlaceholder\n",
    "from langchain.chains import create_history_aware_retriever, create_retrieval_chain\n",
    "from langchain.chains.combine_documents import create_stuff_documents_chain\n",
    "from langchain_community.chat_message_histories import ChatMessageHistory\n",
    "from langchain_core.chat_history import BaseChatMessageHistory\n",
    "from langchain_core.runnables.history import RunnableWithMessageHistory"
   ]
  },
  {
   "cell_type": "markdown",
   "id": "c9171781",
   "metadata": {},
   "source": [
    "### 문서 로드/분할 및 벡터 임베딩"
   ]
  },
  {
   "cell_type": "code",
   "execution_count": 2,
   "id": "3f4b0e2e",
   "metadata": {},
   "outputs": [],
   "source": [
    "# Chroma DB에서 문서 삭제\n",
    "Chroma().delete_collection()"
   ]
  },
  {
   "cell_type": "code",
   "execution_count": 3,
   "id": "acbeb0a8",
   "metadata": {},
   "outputs": [
    {
     "name": "stderr",
     "output_type": "stream",
     "text": [
      "/opt/anaconda3/envs/RAG_CODE/lib/python3.12/site-packages/tqdm/auto.py:21: TqdmWarning: IProgress not found. Please update jupyter and ipywidgets. See https://ipywidgets.readthedocs.io/en/stable/user_install.html\n",
      "  from .autonotebook import tqdm as notebook_tqdm\n"
     ]
    }
   ],
   "source": [
    "# PDF 파일 로드\n",
    "loader = PyPDFLoader(\"data/대한민국헌법(헌법)(제00010호)(19880225).pdf\")\n",
    "pages = loader.load()\n",
    "\n",
    "# 문서 분할\n",
    "embeddings = HuggingFaceEmbeddings(model_name=\"snunlp/KR-SBERT-V40K-klueNLI-augSTS\")\n",
    "text_splitter = SemanticChunker(embeddings)\n",
    "docs = text_splitter.split_documents(pages)\n",
    "\n",
    "# LLM 선언\n",
    "llm = ChatOllama(\n",
    "    model = \"basic_kanana\",\n",
    "    temperature = 0.7\n",
    ")\n",
    "\n",
    "# ChromaDB 선언\n",
    "vectorstore = Chroma.from_documents(docs, embeddings)\n",
    "\n",
    "# Retriever 선언\n",
    "retriever_from_llm = MultiQueryRetriever.from_llm(\n",
    "    retriever = vectorstore.as_retriever(\n",
    "        search_type = \"mmr\",\n",
    "        search_kwargs = {\"lambda_mult\": 0.7, \"fetch_k\": 10, \"k\": 3}\n",
    "    ),\n",
    "    llm = llm\n",
    ")"
   ]
  },
  {
   "cell_type": "markdown",
   "id": "b8783365",
   "metadata": {},
   "source": [
    "### 채팅 히스토리와 사용자 질문 통합"
   ]
  },
  {
   "cell_type": "code",
   "execution_count": 4,
   "id": "6e97bf4d",
   "metadata": {},
   "outputs": [],
   "source": [
    "# 채팅 히스토리-사용자 질문 통합 작업 지시 프롬프트\n",
    "contextualize_q_system_prompt = \"\"\"\n",
    "대화 기록과 최신 사용자 질문이 주어졌을 때, 해당 질문이 대화 기록의 맥락을 참조하고 있을 수 있습니다. \\\n",
    "대화 기록 없이도 이해할 수 있도록 질문을 독립적인 형태로 재구성하세요. \\\n",
    "필요하지 않다면 원래 질문을 그대로 반환하세요. \\\n",
    "절대로 질문에 답하지 마세요.\n",
    "\"\"\"\n",
    "\n",
    "# 프롬프트 템플릿 생성\n",
    "contextualize_q_prompt = ChatPromptTemplate.from_messages(\n",
    "    [\n",
    "        (\"system\", contextualize_q_system_prompt),\n",
    "        MessagesPlaceholder(\"chat_history\"),\n",
    "        (\"human\", \"{input}\"),\n",
    "    ]\n",
    ")\n",
    "\n",
    "# 대화 기록을 고려한 retriever 생성\n",
    "history_aware_retriever = create_history_aware_retriever(llm, retriever_from_llm, contextualize_q_prompt)"
   ]
  },
  {
   "cell_type": "markdown",
   "id": "9c569313",
   "metadata": {},
   "source": [
    "### RAG 체인 구축"
   ]
  },
  {
   "cell_type": "code",
   "execution_count": 5,
   "id": "f0154a01",
   "metadata": {},
   "outputs": [],
   "source": [
    "# 컨텍스트와 사용자 질문을 함께 다룰 수 있도록 만들어주는 시스템 프롬프트\n",
    "qa_system_prompt = \"\"\"\n",
    "당신은 질의응답 작업을 위한 어시스턴트입니다. \\\n",
    "다음에 제공된 문맥 정보를 활용하여 질문에 답하십시오. \\\n",
    "답을 모를 경우, 모른다고만 답하십시오. \\\n",
    "최대 세 문장으로 간결하게 답변하십시오. \\\n",
    "존댓말로 대답하십시오. \\\n",
    "{context}\n",
    "\"\"\"\n",
    "\n",
    "# 프롬프트 템플릿 생할\n",
    "qa_prompt = ChatPromptTemplate.from_messages(\n",
    "    [\n",
    "        (\"system\", qa_system_prompt),\n",
    "        MessagesPlaceholder(\"chat_history\"),\n",
    "        (\"human\", \"{input}\"),\n",
    "    ]\n",
    ")\n",
    "\n",
    "# Document 객체들을 하나의 텍스트로 묶기 및 LLM에 전달하는 역할\n",
    "question_answer_chain = create_stuff_documents_chain(llm, qa_prompt)\n",
    "\n",
    "# 최종 체인 생성\n",
    "rag_chain = create_retrieval_chain(history_aware_retriever, question_answer_chain)"
   ]
  },
  {
   "cell_type": "markdown",
   "id": "35aecc10",
   "metadata": {},
   "source": [
    "### RAG 체인 사용 방법 및 해팅 히스토리 기록"
   ]
  },
  {
   "cell_type": "code",
   "execution_count": null,
   "id": "f7ef4033",
   "metadata": {},
   "outputs": [],
   "source": [
    "# from langchain_core.messages import HumanMessage\n",
    "\n",
    "# # 채팅 히스토리를 적재하기 위한 리스트\n",
    "# chat_history = []\n",
    "\n",
    "# question = \"대통령의 임기는 몇년이야?\"\n",
    "# # 첫번째 질문에 답변하기 위한 rag_chain 실행\n",
    "# ai_msg_1 = rag_chain.invoke({\"input\": question, \"chat_history\": chat_history})\n",
    "# # 첫번째 질문과 답변을 채팅 히스토리로 저장\n",
    "# chat_history.extend([HumanMessage(content=question), ai_msg_1[\"answer\"]])\n",
    "\n",
    "# second_question = \"국회의원은?\"\n",
    "# # 두번째 질문 입력 시에는 첫번째 질문-답변이 저장된 chat_history가 삽입됨\n",
    "# ai_msg_2 = rag_chain.invoke({\"input\": second_question, \"chat_history\": chat_history})\n",
    "\n",
    "# print(ai_msg_2[\"answer\"])"
   ]
  },
  {
   "cell_type": "markdown",
   "id": "9dcb3857",
   "metadata": {},
   "source": [
    "### 채팅 세션별 기록 자동 저장 RAG 체인 구축\n",
    "- 채팅의 세션별로 서로 다른 채팅 히스토리를 저장, 개별의 대화방 생성"
   ]
  },
  {
   "cell_type": "code",
   "execution_count": 6,
   "id": "a50e37ee",
   "metadata": {},
   "outputs": [],
   "source": [
    "# 채팅 세션별 기록 저장 위한 Dictionary 선언\n",
    "store = {}\n",
    "\n",
    "# 주어진 session_id 값에 매칭되는 채팅 히스토리 가져오는 함수 선언\n",
    "def get_session_history(session_id: str) -> BaseChatMessageHistory:\n",
    "    if session_id not in store:\n",
    "        store[session_id] = ChatMessageHistory()\n",
    "    return store[session_id]\n",
    "\n",
    "# RunnableWithMessageHistory 모듈로 rag_chain에 채팅 기록 세션별로 자동 저장 기능 추가\n",
    "conversational_rag_chain = RunnableWithMessageHistory(\n",
    "    rag_chain,\n",
    "    get_session_history,\n",
    "    input_messages_key = \"input\",\n",
    "    history_messages_key = \"chat_history\",\n",
    "    output_messages_key = \"answer\",\n",
    ")"
   ]
  },
  {
   "cell_type": "code",
   "execution_count": 7,
   "id": "9525a8e7",
   "metadata": {},
   "outputs": [
    {
     "data": {
      "text/plain": [
       "'대통령의 임기는 5년입니다.'"
      ]
     },
     "execution_count": 7,
     "metadata": {},
     "output_type": "execute_result"
    }
   ],
   "source": [
    "conversational_rag_chain.invoke(\n",
    "    {\"input\": \"대통령의 임기는 몇년이야?\"},\n",
    "    config={\"configurable\": {\"session_id\": \"240510101\"}},\n",
    ")[\"answer\"]"
   ]
  },
  {
   "cell_type": "code",
   "execution_count": 8,
   "id": "d3bf9d11",
   "metadata": {},
   "outputs": [
    {
     "data": {
      "text/plain": [
       "'국회의원의 임기는 4년입니다. '"
      ]
     },
     "execution_count": 8,
     "metadata": {},
     "output_type": "execute_result"
    }
   ],
   "source": [
    "conversational_rag_chain.invoke(\n",
    "    {\"input\": \"국회의원은?\"},\n",
    "    config={\"configurable\": {\"session_id\": \"240510101\"}},\n",
    ")[\"answer\"]"
   ]
  }
 ],
 "metadata": {
  "kernelspec": {
   "display_name": "RAG_CODE",
   "language": "python",
   "name": "python3"
  },
  "language_info": {
   "codemirror_mode": {
    "name": "ipython",
    "version": 3
   },
   "file_extension": ".py",
   "mimetype": "text/x-python",
   "name": "python",
   "nbconvert_exporter": "python",
   "pygments_lexer": "ipython3",
   "version": "3.12.9"
  }
 },
 "nbformat": 4,
 "nbformat_minor": 5
}
