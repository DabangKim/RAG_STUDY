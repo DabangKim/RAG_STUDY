{
 "cells": [
  {
   "cell_type": "code",
   "execution_count": 3,
   "metadata": {},
   "outputs": [
    {
     "name": "stderr",
     "output_type": "stream",
     "text": [
      "/opt/anaconda3/envs/RAG_CODE/lib/python3.12/site-packages/tqdm/auto.py:21: TqdmWarning: IProgress not found. Please update jupyter and ipywidgets. See https://ipywidgets.readthedocs.io/en/stable/user_install.html\n",
      "  from .autonotebook import tqdm as notebook_tqdm\n"
     ]
    },
    {
     "data": {
      "text/plain": [
       "[Document(id='a800f462-fc89-4f6e-8e49-6c08b28f557a', metadata={'creationdate': '2024-04-01T21:26:24+09:00', 'creator': 'PyPDF', 'moddate': '2024-04-01T21:26:24+09:00', 'page': 4, 'page_label': '5', 'producer': 'iText 2.1.7 by 1T3XT', 'source': 'data/대한민국헌법(헌법)(제00010호)(19880225).pdf', 'total_pages': 14}, page_content='법제처                                                            5                                                       국가법령정보센터\\n대한민국헌법\\n③국회의원의 선거구와 비례대표제 기타 선거에 관한 사항은 법률로 정한다.\\n \\n제42조 국회의원의 임기는 4년으로 한다.\\n \\n제43조 국회의원은 법률이 정하는 직을 겸할 수 없다.\\n \\n제44조 ①국회의원은 현행범인인 경우를 제외하고는 회기 중 국회의 동의없이 체포 또는 구금되지 아니한다.\\n②국회의원이 회기 전에 체포 또는 구금된 때에는 현행범인이 아닌 한 국회의 요구가 있으면 회기 중 석방된다.\\n \\n제45조 국회의원은 국회에서 직무상 행한 발언과 표결에 관하여 국회 외에서 책임을 지지 아니한다.\\n \\n제46조 ①국회의원은 청렴의 의무가 있다.\\n②국회의원은 국가이익을 우선하여 양심에 따라 직무를 행한다.'),\n",
       " Document(id='b624693b-bf9d-4ed0-a355-d44ebadcba0a', metadata={'creationdate': '2024-04-01T21:26:24+09:00', 'creator': 'PyPDF', 'moddate': '2024-04-01T21:26:24+09:00', 'page': 3, 'page_label': '4', 'producer': 'iText 2.1.7 by 1T3XT', 'source': 'data/대한민국헌법(헌법)(제00010호)(19880225).pdf', 'total_pages': 14}, page_content='②국민의 모든 자유와 권리는 국가안전보장ㆍ질서유지 또는 공공복리를 위하여 필요한 경우에 한하여 법률로써 제\\n한할 수 있으며, 제한하는 경우에도 자유와 권리의 본질적인 내용을 침해할 수 없다.\\n \\n제38조 모든 국민은 법률이 정하는 바에 의하여 납세의 의무를 진다.\\n \\n제39조 ①모든 국민은 법률이 정하는 바에 의하여 국방의 의무를 진다.\\n②누구든지 병역의무의 이행으로 인하여 불이익한 처우를 받지 아니한다.\\n \\n       제3장 국회\\n \\n제40조 입법권은 국회에 속한다.\\n \\n제41조 ①국회는 국민의 보통ㆍ평등ㆍ직접ㆍ비밀선거에 의하여 선출된 국회의원으로 구성한다.\\n②국회의원의 수는 법률로 정하되, 200인 이상으로 한다.'),\n",
       " Document(id='4b774f79-e02c-4211-b8ee-1ddadd109723', metadata={'creationdate': '2024-04-01T21:26:24+09:00', 'creator': 'PyPDF', 'moddate': '2024-04-01T21:26:24+09:00', 'page': 4, 'page_label': '5', 'producer': 'iText 2.1.7 by 1T3XT', 'source': 'data/대한민국헌법(헌법)(제00010호)(19880225).pdf', 'total_pages': 14}, page_content='제46조 ①국회의원은 청렴의 의무가 있다.\\n②국회의원은 국가이익을 우선하여 양심에 따라 직무를 행한다.\\n③국회의원은 그 지위를 남용하여 국가ㆍ공공단체 또는 기업체와의 계약이나 그 처분에 의하여 재산상의 권리ㆍ이\\n익 또는 직위를 취득하거나 타인을 위하여 그 취득을 알선할 수 없다.\\n \\n제47조 ①국회의 정기회는 법률이 정하는 바에 의하여 매년 1회 집회되며, 국회의 임시회는 대통령 또는 국회재적의원\\n4분의 1 이상의 요구에 의하여 집회된다.\\n②정기회의 회기는 100일을, 임시회의 회기는 30일을 초과할 수 없다.\\n③대통령이 임시회의 집회를 요구할 때에는 기간과 집회요구의 이유를 명시하여야 한다.\\n \\n제48조 국회는 의장 1인과 부의장 2인을 선출한다.\\n \\n제49조 국회는 헌법 또는 법률에 특별한 규정이 없는 한 재적의원 과반수의 출석과 출석의원 과반수의 찬성으로 의결\\n한다. 가부동수인 때에는 부결된 것으로 본다.'),\n",
       " Document(id='8d8cd6d5-44a8-4788-9581-c4c29034b88e', metadata={'creationdate': '2024-04-01T21:26:24+09:00', 'creator': 'PyPDF', 'moddate': '2024-04-01T21:26:24+09:00', 'page': 11, 'page_label': '12', 'producer': 'iText 2.1.7 by 1T3XT', 'source': 'data/대한민국헌법(헌법)(제00010호)(19880225).pdf', 'total_pages': 14}, page_content='지시를 할 수 있다.\\n②제1항의 지시를 받은 당해 행정기관은 이에 응하여야 한다.\\n \\n제116조 ①선거운동은 각급 선거관리위원회의 관리하에 법률이 정하는 범위 안에서 하되, 균등한 기회가 보장되어야\\n한다.\\n②선거에 관한 경비는 법률이 정하는 경우를 제외하고는 정당 또는 후보자에게 부담시킬 수 없다.\\n \\n       제8장 지방자치\\n \\n제117조 ①지방자치단체는 주민의 복리에 관한 사무를 처리하고 재산을 관리하며, 법령의 범위 안에서 자치에 관한 규\\n정을 제정할 수 있다.\\n②지방자치단체의 종류는 법률로 정한다.\\n \\n제118조 ①지방자치단체에 의회를 둔다.\\n②지방의회의 조직ㆍ권한ㆍ의원선거와 지방자치단체의 장의 선임방법 기타 지방자치단체의 조직과 운영에 관한\\n사항은 법률로 정한다.\\n \\n       제9장 경제\\n \\n제119조 ①대한민국의 경제질서는 개인과 기업의 경제상의 자유와 창의를 존중함을 기본으로 한다.')]"
      ]
     },
     "execution_count": 3,
     "metadata": {},
     "output_type": "execute_result"
    }
   ],
   "source": [
    "from langchain.document_loaders import PyPDFLoader\n",
    "from langchain_text_splitters import RecursiveCharacterTextSplitter\n",
    "from langchain_huggingface import HuggingFaceEmbeddings\n",
    "from langchain_chroma import Chroma\n",
    "\n",
    "# Chroma DB에서 문서 삭제\n",
    "Chroma().delete_collection()\n",
    "\n",
    "# HuggingfaceEmbedding 함수로 Open source 임베딩 모델 로드\n",
    "ko_embedding = HuggingFaceEmbeddings(\n",
    "    model_name=\"snunlp/KR-SBERT-V40K-klueNLI-augSTS\",\n",
    ")\n",
    "\n",
    "# PDF 파일 로드 및 분할\n",
    "loader = PyPDFLoader(\"data/대한민국헌법(헌법)(제00010호)(19880225).pdf\")\n",
    "pages = loader.load_and_split()\n",
    "\n",
    "# 청크 크기 및 중첩 설정\n",
    "text_splitter = RecursiveCharacterTextSplitter(chunk_size = 500, chunk_overlap = 100)\n",
    "docs = text_splitter.split_documents(pages)\n",
    "\n",
    "# ChromaDB에 청크들을 벡터 임베딩으로 저장\n",
    "db = Chroma.from_documents(docs, ko_embedding)\n",
    "\n",
    "# Chroma를 Retriever로 활용\n",
    "retriever = db.as_retriever()    # Chroma DB를 Retriever로 변환\n",
    "retriever.invoke(\"국회의원의 의무\")  # \"국회의원의 의무\"라는 쿼리로 검색"
   ]
  },
  {
   "cell_type": "markdown",
   "metadata": {},
   "source": [
    "### 검색 결과 개수 조정"
   ]
  },
  {
   "cell_type": "code",
   "execution_count": 4,
   "metadata": {},
   "outputs": [
    {
     "data": {
      "text/plain": [
       "[Document(id='a800f462-fc89-4f6e-8e49-6c08b28f557a', metadata={'creationdate': '2024-04-01T21:26:24+09:00', 'creator': 'PyPDF', 'moddate': '2024-04-01T21:26:24+09:00', 'page': 4, 'page_label': '5', 'producer': 'iText 2.1.7 by 1T3XT', 'source': 'data/대한민국헌법(헌법)(제00010호)(19880225).pdf', 'total_pages': 14}, page_content='법제처                                                            5                                                       국가법령정보센터\\n대한민국헌법\\n③국회의원의 선거구와 비례대표제 기타 선거에 관한 사항은 법률로 정한다.\\n \\n제42조 국회의원의 임기는 4년으로 한다.\\n \\n제43조 국회의원은 법률이 정하는 직을 겸할 수 없다.\\n \\n제44조 ①국회의원은 현행범인인 경우를 제외하고는 회기 중 국회의 동의없이 체포 또는 구금되지 아니한다.\\n②국회의원이 회기 전에 체포 또는 구금된 때에는 현행범인이 아닌 한 국회의 요구가 있으면 회기 중 석방된다.\\n \\n제45조 국회의원은 국회에서 직무상 행한 발언과 표결에 관하여 국회 외에서 책임을 지지 아니한다.\\n \\n제46조 ①국회의원은 청렴의 의무가 있다.\\n②국회의원은 국가이익을 우선하여 양심에 따라 직무를 행한다.')]"
      ]
     },
     "execution_count": 4,
     "metadata": {},
     "output_type": "execute_result"
    }
   ],
   "source": [
    "# 유사 청크 1개만 반환\n",
    "retriever = db.as_retriever(search_kwargs = {\"k\": 1})\n",
    "retriever.invoke(\"국회의원의 의무\")"
   ]
  },
  {
   "cell_type": "markdown",
   "metadata": {},
   "source": [
    "### 검색 방식 변경 - MMR 검색 방식"
   ]
  },
  {
   "cell_type": "code",
   "execution_count": 5,
   "metadata": {},
   "outputs": [
    {
     "data": {
      "text/plain": [
       "[Document(id='a800f462-fc89-4f6e-8e49-6c08b28f557a', metadata={'creationdate': '2024-04-01T21:26:24+09:00', 'creator': 'PyPDF', 'moddate': '2024-04-01T21:26:24+09:00', 'page': 4, 'page_label': '5', 'producer': 'iText 2.1.7 by 1T3XT', 'source': 'data/대한민국헌법(헌법)(제00010호)(19880225).pdf', 'total_pages': 14}, page_content='법제처                                                            5                                                       국가법령정보센터\\n대한민국헌법\\n③국회의원의 선거구와 비례대표제 기타 선거에 관한 사항은 법률로 정한다.\\n \\n제42조 국회의원의 임기는 4년으로 한다.\\n \\n제43조 국회의원은 법률이 정하는 직을 겸할 수 없다.\\n \\n제44조 ①국회의원은 현행범인인 경우를 제외하고는 회기 중 국회의 동의없이 체포 또는 구금되지 아니한다.\\n②국회의원이 회기 전에 체포 또는 구금된 때에는 현행범인이 아닌 한 국회의 요구가 있으면 회기 중 석방된다.\\n \\n제45조 국회의원은 국회에서 직무상 행한 발언과 표결에 관하여 국회 외에서 책임을 지지 아니한다.\\n \\n제46조 ①국회의원은 청렴의 의무가 있다.\\n②국회의원은 국가이익을 우선하여 양심에 따라 직무를 행한다.'),\n",
       " Document(id='d5b90941-2db7-4fa9-bebc-220752bb7c3d', metadata={'creationdate': '2024-04-01T21:26:24+09:00', 'creator': 'PyPDF', 'moddate': '2024-04-01T21:26:24+09:00', 'page': 2, 'page_label': '3', 'producer': 'iText 2.1.7 by 1T3XT', 'source': 'data/대한민국헌법(헌법)(제00010호)(19880225).pdf', 'total_pages': 14}, page_content='배상을 청구할 수 있다. 이 경우 공무원 자신의 책임은 면제되지 아니한다.\\n②군인ㆍ군무원ㆍ경찰공무원 기타 법률이 정하는 자가 전투ㆍ훈련등 직무집행과 관련하여 받은 손해에 대하여는\\n법률이 정하는 보상 외에 국가 또는 공공단체에 공무원의 직무상 불법행위로 인한 배상은 청구할 수 없다.\\n \\n제30조 타인의 범죄행위로 인하여 생명ㆍ신체에 대한 피해를 받은 국민은 법률이 정하는 바에 의하여 국가로부터 구조\\n를 받을 수 있다.\\n \\n제31조 ①모든 국민은 능력에 따라 균등하게 교육을 받을 권리를 가진다.\\n②모든 국민은 그 보호하는 자녀에게 적어도 초등교육과 법률이 정하는 교육을 받게 할 의무를 진다.\\n③의무교육은 무상으로 한다.\\n④교육의 자주성ㆍ전문성ㆍ정치적 중립성 및 대학의 자율성은 법률이 정하는 바에 의하여 보장된다.\\n⑤국가는 평생교육을 진흥하여야 한다.\\n⑥학교교육 및 평생교육을 포함한 교육제도와 그 운영, 교육재정 및 교원의 지위에 관한 기본적인 사항은 법률로 정\\n한다.'),\n",
       " Document(id='753c3089-307e-4200-982b-9b73b2c8a755', metadata={'creationdate': '2024-04-01T21:26:24+09:00', 'creator': 'PyPDF', 'moddate': '2024-04-01T21:26:24+09:00', 'page': 3, 'page_label': '4', 'producer': 'iText 2.1.7 by 1T3XT', 'source': 'data/대한민국헌법(헌법)(제00010호)(19880225).pdf', 'total_pages': 14}, page_content='법제처                                                            4                                                       국가법령정보센터\\n대한민국헌법\\n제32조 ①모든 국민은 근로의 권리를 가진다. 국가는 사회적ㆍ경제적 방법으로 근로자의 고용의 증진과 적정임금의 보\\n장에 노력하여야 하며, 법률이 정하는 바에 의하여 최저임금제를 시행하여야 한다.\\n②모든 국민은 근로의 의무를 진다. 국가는 근로의 의무의 내용과 조건을 민주주의원칙에 따라 법률로 정한다.\\n③근로조건의 기준은 인간의 존엄성을 보장하도록 법률로 정한다.\\n④여자의 근로는 특별한 보호를 받으며, 고용ㆍ임금 및 근로조건에 있어서 부당한 차별을 받지 아니한다.\\n⑤연소자의 근로는 특별한 보호를 받는다.\\n⑥국가유공자ㆍ상이군경 및 전몰군경의 유가족은 법률이 정하는 바에 의하여 우선적으로 근로의 기회를 부여받는\\n다.')]"
      ]
     },
     "execution_count": 5,
     "metadata": {},
     "output_type": "execute_result"
    }
   ],
   "source": [
    "# lambda_mult : 관련성(유사도)과 다양성(중복 제거) 사이의 균형을 조절. 0이면 다양성만 고려, 1이면 관련성만 고려\n",
    "# fetch_k : 검색할 청크의 개수\n",
    "# k : 최종적으로 반환할 청크의 개수\n",
    "retriever = db.as_retriever(\n",
    "    search_type = \"mmr\",\n",
    "    search_kwargs = {\"lambda_mult\": 0.3, \"fetch_k\": 10, \"k\": 3}\n",
    ")\n",
    "retriever.invoke(\"국회의원의 의무\")"
   ]
  },
  {
   "cell_type": "markdown",
   "metadata": {},
   "source": [
    "### 검색 방식 변경 - 일반 유사도 검색 방식"
   ]
  },
  {
   "cell_type": "code",
   "execution_count": null,
   "metadata": {},
   "outputs": [
    {
     "name": "stderr",
     "output_type": "stream",
     "text": [
      "/var/folders/nb/m5pjt20x3jq26zr0wyzw53zw0000gn/T/ipykernel_2101/2600206637.py:3: LangChainDeprecationWarning: The method `BaseRetriever.get_relevant_documents` was deprecated in langchain-core 0.1.46 and will be removed in 1.0. Use :meth:`~invoke` instead.\n",
      "  retriever.get_relevant_documents(\"국회의원의 의무\")\n"
     ]
    },
    {
     "data": {
      "text/plain": [
       "[Document(id='a800f462-fc89-4f6e-8e49-6c08b28f557a', metadata={'creationdate': '2024-04-01T21:26:24+09:00', 'creator': 'PyPDF', 'moddate': '2024-04-01T21:26:24+09:00', 'page': 4, 'page_label': '5', 'producer': 'iText 2.1.7 by 1T3XT', 'source': 'data/대한민국헌법(헌법)(제00010호)(19880225).pdf', 'total_pages': 14}, page_content='법제처                                                            5                                                       국가법령정보센터\\n대한민국헌법\\n③국회의원의 선거구와 비례대표제 기타 선거에 관한 사항은 법률로 정한다.\\n \\n제42조 국회의원의 임기는 4년으로 한다.\\n \\n제43조 국회의원은 법률이 정하는 직을 겸할 수 없다.\\n \\n제44조 ①국회의원은 현행범인인 경우를 제외하고는 회기 중 국회의 동의없이 체포 또는 구금되지 아니한다.\\n②국회의원이 회기 전에 체포 또는 구금된 때에는 현행범인이 아닌 한 국회의 요구가 있으면 회기 중 석방된다.\\n \\n제45조 국회의원은 국회에서 직무상 행한 발언과 표결에 관하여 국회 외에서 책임을 지지 아니한다.\\n \\n제46조 ①국회의원은 청렴의 의무가 있다.\\n②국회의원은 국가이익을 우선하여 양심에 따라 직무를 행한다.'),\n",
       " Document(id='b624693b-bf9d-4ed0-a355-d44ebadcba0a', metadata={'creationdate': '2024-04-01T21:26:24+09:00', 'creator': 'PyPDF', 'moddate': '2024-04-01T21:26:24+09:00', 'page': 3, 'page_label': '4', 'producer': 'iText 2.1.7 by 1T3XT', 'source': 'data/대한민국헌법(헌법)(제00010호)(19880225).pdf', 'total_pages': 14}, page_content='②국민의 모든 자유와 권리는 국가안전보장ㆍ질서유지 또는 공공복리를 위하여 필요한 경우에 한하여 법률로써 제\\n한할 수 있으며, 제한하는 경우에도 자유와 권리의 본질적인 내용을 침해할 수 없다.\\n \\n제38조 모든 국민은 법률이 정하는 바에 의하여 납세의 의무를 진다.\\n \\n제39조 ①모든 국민은 법률이 정하는 바에 의하여 국방의 의무를 진다.\\n②누구든지 병역의무의 이행으로 인하여 불이익한 처우를 받지 아니한다.\\n \\n       제3장 국회\\n \\n제40조 입법권은 국회에 속한다.\\n \\n제41조 ①국회는 국민의 보통ㆍ평등ㆍ직접ㆍ비밀선거에 의하여 선출된 국회의원으로 구성한다.\\n②국회의원의 수는 법률로 정하되, 200인 이상으로 한다.'),\n",
       " Document(id='4b774f79-e02c-4211-b8ee-1ddadd109723', metadata={'creationdate': '2024-04-01T21:26:24+09:00', 'creator': 'PyPDF', 'moddate': '2024-04-01T21:26:24+09:00', 'page': 4, 'page_label': '5', 'producer': 'iText 2.1.7 by 1T3XT', 'source': 'data/대한민국헌법(헌법)(제00010호)(19880225).pdf', 'total_pages': 14}, page_content='제46조 ①국회의원은 청렴의 의무가 있다.\\n②국회의원은 국가이익을 우선하여 양심에 따라 직무를 행한다.\\n③국회의원은 그 지위를 남용하여 국가ㆍ공공단체 또는 기업체와의 계약이나 그 처분에 의하여 재산상의 권리ㆍ이\\n익 또는 직위를 취득하거나 타인을 위하여 그 취득을 알선할 수 없다.\\n \\n제47조 ①국회의 정기회는 법률이 정하는 바에 의하여 매년 1회 집회되며, 국회의 임시회는 대통령 또는 국회재적의원\\n4분의 1 이상의 요구에 의하여 집회된다.\\n②정기회의 회기는 100일을, 임시회의 회기는 30일을 초과할 수 없다.\\n③대통령이 임시회의 집회를 요구할 때에는 기간과 집회요구의 이유를 명시하여야 한다.\\n \\n제48조 국회는 의장 1인과 부의장 2인을 선출한다.\\n \\n제49조 국회는 헌법 또는 법률에 특별한 규정이 없는 한 재적의원 과반수의 출석과 출석의원 과반수의 찬성으로 의결\\n한다. 가부동수인 때에는 부결된 것으로 본다.')]"
      ]
     },
     "execution_count": 6,
     "metadata": {},
     "output_type": "execute_result"
    }
   ],
   "source": [
    "# Chroma를 Retriever로 활용\n",
    "retriever = db.as_retriever(search_kwargs = {\"k\": 3})\n",
    "retriever.get_relevant_documents(\"국회의원의 의무\")\n"
   ]
  },
  {
   "cell_type": "markdown",
   "metadata": {},
   "source": [
    "### invoke()와 get_relevant_documents()의 차이점\n",
    "- 둘 다 벡터 DB에서 문서를 찾아주는 기능\n",
    "- invoke(): LangChain의 Runnable 시스템용 메서드. 체이닝 시스템(Runnable)에서 호환되게 사용\n",
    "- get_relevant_documents(): LangChain 전통적인 메서드. 명시적으로 관련 문서를 찾을 때 사용"
   ]
  }
 ],
 "metadata": {
  "kernelspec": {
   "display_name": "RAG_CODE",
   "language": "python",
   "name": "python3"
  },
  "language_info": {
   "codemirror_mode": {
    "name": "ipython",
    "version": 3
   },
   "file_extension": ".py",
   "mimetype": "text/x-python",
   "name": "python",
   "nbconvert_exporter": "python",
   "pygments_lexer": "ipython3",
   "version": "3.12.9"
  }
 },
 "nbformat": 4,
 "nbformat_minor": 2
}
