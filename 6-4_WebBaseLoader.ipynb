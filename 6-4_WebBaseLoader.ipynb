{
 "cells": [
  {
   "cell_type": "code",
   "execution_count": 2,
   "metadata": {},
   "outputs": [
    {
     "name": "stderr",
     "output_type": "stream",
     "text": [
      "/opt/anaconda3/envs/RAG_CODE/lib/python3.12/site-packages/urllib3/connectionpool.py:1061: InsecureRequestWarning: Unverified HTTPS request is being made to host 'www.espn.com'. Adding certificate verification is strongly advised. See: https://urllib3.readthedocs.io/en/1.26.x/advanced-usage.html#ssl-warnings\n",
      "  warnings.warn(\n"
     ]
    },
    {
     "data": {
      "text/plain": [
       "[Document(metadata={'source': 'https://www.espn.com/', 'title': 'ESPN - Serving Sports Fans. Anytime. Anywhere.', 'description': 'Visit ESPN for live scores, highlights and sports news. Stream exclusive games on ESPN+ and play fantasy sports.', 'language': 'en'}, page_content=\"\\n\\n\\n\\n\\n\\n\\n\\n\\nESPN - Serving Sports Fans. Anytime. Anywhere.\\n\\n\\n\\n\\n\\n\\n\\n\\n\\n\\n\\n\\n\\n\\n\\n\\n\\n\\n\\n\\n\\n\\n\\n\\n\\n\\n\\n\\n\\n\\n\\n\\n\\n\\n\\n\\n\\n\\n\\n\\n\\n\\n\\n\\n\\n\\n\\n\\n\\n\\n\\n\\n\\n\\n\\n\\n\\n\\n\\n\\n\\n\\n\\n\\n\\n\\n\\n\\n\\n\\n\\n\\n\\n\\n\\n\\n\\n\\n\\n\\n\\n\\n\\n\\n\\n\\n\\n\\n\\n\\n\\n\\n        Skip to main content\\n    \\n\\n        Skip to navigation\\n    \\n\\n\\n\\n\\n\\n\\n\\n\\n\\n\\n\\n\\n\\n\\n\\n\\n\\n\\n\\n\\n\\n\\n\\n\\n\\n\\n\\n\\n\\n\\n\\n\\n\\n<\\n\\n>\\n\\n\\n\\n\\n\\n\\n\\n\\n\\nMenuESPN\\n\\n\\n\\n\\n\\nscores\\n\\n\\n\\nNFLNBANHLNCAAMNCAAWSoccerMLBMore SportsBoxingCFLNCAACricketF1GamingGolfHorseLLWSMMANASCARNLLNBA G LeagueNBA Summer LeagueNCAAFNWSLOlympicsPLLProfessional WrestlingRacingRN BBRN FBRugbySports BettingTennisTGLUFLWNBAX GamesEditionsFantasyWatchESPN BETESPN+\\n\\n\\n\\n\\n\\n\\n\\n\\n\\n\\n\\n\\n\\n\\n\\n  \\n\\nSubscribe Now\\n\\n\\n\\n\\n\\nNCAA Women's Basketball\\n\\n\\n\\n\\n\\n\\n\\nUFC Fight Night: Moreno vs. Erceg\\n\\n\\n\\n\\n\\n\\n\\nNHL\\n\\n\\n\\n\\n\\n\\n\\nTop Rank Boxing: Mayer vs. Ryan 2\\n\\n\\n\\n\\n\\n\\n\\nPGA TOUR LIVE\\n\\n\\n\\n\\n\\n\\n\\nNCAA Men's Hockey Championship\\n\\n\\n\\n\\n\\n\\n\\nNWSL\\n\\n\\nQuick Links\\n\\n\\n\\n\\nMen's NCAA Bracket\\n\\n\\n\\n\\n\\n\\n\\nWomen's NCAA Bracket\\n\\n\\n\\n\\n\\n\\n\\nMen's Tournament Challenge\\n\\n\\n\\n\\n\\n\\n\\nWomen's Tournament Challenge\\n\\n\\n\\n\\n\\n\\n\\nNFL Free Agency\\n\\n\\n\\n\\n\\n\\n\\nNFL Draft\\n\\n\\n\\n\\n\\n\\n\\nMarch Madness History\\n\\n\\n\\n\\n\\n\\n\\nWhere To Watch\\n\\n\\n\\n\\n\\n\\n\\nMen's TC 2nd Chance\\n\\n\\n\\n\\n\\n\\n\\nWomen's TC 2nd Chance\\n\\n\\n\\n\\n\\n\\n\\nToday's Top Odds\\n\\n\\n\\n\\n\\n\\n\\nESPN Radio: Listen Live\\n\\n\\n\\n\\n\\n\\nFavorites\\n\\n\\n\\n\\n\\n\\n      Manage Favorites\\n      \\n\\n\\n\\nCustomize ESPNCreate AccountLog InFantasy\\n\\n\\n\\n\\nFootball\\n\\n\\n\\n\\n\\n\\n\\nBaseball\\n\\n\\n\\n\\n\\n\\n\\nHockey\\n\\n\\n\\n\\n\\n\\n\\nMen's Basketball\\n\\n\\n\\n\\n\\n\\n\\nWomen's Basketball\\n\\n\\nESPN Sites\\n\\n\\n\\n\\nESPN Deportes\\n\\n\\n\\n\\n\\n\\n\\nAndscape\\n\\n\\n\\n\\n\\n\\n\\nespnW\\n\\n\\n\\n\\n\\n\\n\\nESPNFC\\n\\n\\n\\n\\n\\n\\n\\nX Games\\n\\n\\n\\n\\n\\n\\n\\nSEC Network\\n\\n\\nESPN Apps\\n\\n\\n\\n\\nESPN\\n\\n\\n\\n\\n\\n\\n\\nESPN Fantasy\\n\\n\\n\\n\\n\\n\\n\\nTournament Challenge\\n\\n\\nFollow ESPN\\n\\n\\n\\n\\nFacebook\\n\\n\\n\\n\\n\\n\\n\\nX/Twitter\\n\\n\\n\\n\\n\\n\\n\\nInstagram\\n\\n\\n\\n\\n\\n\\n\\nSnapchat\\n\\n\\n\\n\\n\\n\\n\\nTikTok\\n\\n\\n\\n\\n\\n\\n\\nYouTube\\n\\n\\nRanking the menâ€™s Elite Eight: Our 1-4 isnâ€™t all 1-seedsWe have our regional finalists. Let's rerank the eight remaining teams in the 2025 NCAA tournament.9hMyron MedcalfAP Photo/Frank Franklin IIYour guide to the final men's Sweet 16 games: Game winners, keys to the Elite EightRelive all of the action from Friday night, with analysis on Auburn's and Houston's wins, and more.9hESPN StaffğŸ�† Check your bracket!Best bets for men's Elite 8TOP HEADLINESHouston survives on 'beautiful' last-second play'Generational' talent Betts keeps No. 1 UCLA rollingBetts revels in walk-off HR after emotional weekDominant Morrow puts LSU in 3rd straight Elite 8Gottlieb defends MSU: JuJu not hurt on dirty playGiannis on LeBron's praise: Unfair to compare erasLiu ends U.S. drought, wins figure skating worldsUCLA lands MWC Player of Year Dent from portalYates' NFL draft board: Top 50 prospectsWOMEN'S NCAA TOURNAMENTYour guide to the women's Sweet 16: Pair of 1-seeds advance, Morrow and Betts starFollow along as we track the first four games of the Sweet 16 in the women's NCAA tournament.11hESPNJames Snook-Imagn ImagesğŸ�† Check your bracket!BEST OF MEN'S SWEET 16Houston draws up great play to score winner with under a second left10h0:20Coen Carr punishes rim after Michigan State steal12h0:16THE DANCE IS OVERWhat's next for all eight teams that lost in the Sweet 16For the teams whose dreams of reaching the men's Final Four are dashed, let's look ahead to next season.10hJeff Borzello and Myron MedcalfAP Photo/Michael ConroyForecasting next season for women's eliminated top seedsNC State has been eliminated. From portal priorities to incoming recruits, we look ahead to the Wolfpack next season.12hMichael VoepelAlika Jenner/Getty ImagesBEST OF WOMEN'S SWEET 16Lauren Betts joins elite company with 31-point, 10-rebound double-double9h1:52Aneesah Morrow's 30-point, 19-rebound double-double powers LSU to Elite Eight10h1:59GEARING UP FOR THE POSTSEASONNHL playoff watch: Guide to a pivotal 11-game SaturdayHere's what's at stake in each matchup, plus updated playoff projections, draft lottery standings and more.3hESPN StaffMaddie Meyer/Getty ImagesNHL Power Rankings: Latest updated poll, plus each team's strength of scheduleAs the playoff field solidifies, here's how our panel voted, along with each team's slate through April 17.1dESPN StaffWhy penalties (and power plays) are down this seasonPGA TOUR:  TEXAS CHILDREN'S HOUSTON OPENON ESPN+ THROUGH SUNDAYWatch live action from Memorial Park Golf CourseliveAROUND THE ASSOCIATIONNBA intel: Why one agent is preparing his players for a 'free agent recession'Tim Bontemps and Brian Windhorst canvass the league for an early look at free agency's biggest storylines.2dTim Bontemps and Brian WindhorstAP Photo/Michael ConroyPostseason tracker: Who has clinched?GLOBAL SOCCER SCOREBOARDğŸ“… Complete soccer scoreboard Top HeadlinesHouston survives on 'beautiful' last-second play'Generational' talent Betts keeps No. 1 UCLA rollingBetts revels in walk-off HR after emotional weekDominant Morrow puts LSU in 3rd straight Elite 8Gottlieb defends MSU: JuJu not hurt on dirty playGiannis on LeBron's praise: Unfair to compare erasLiu ends U.S. drought, wins figure skating worldsUCLA lands MWC Player of Year Dent from portalYates' NFL draft board: Top 50 prospectsFavorites FantasyManage FavoritesFantasy HomeCustomize ESPNCreate AccountLog InICYMI0:42Josh Giddey's half-court buzzer-beater wins it for Bulls over the LakersAustin Reaves gives the Lakers a lead, but Josh Giddey nails a half-court shot to win it for the Bulls. Best of ESPN+AP Photo/Michael ConroyNBA free agency intel: Wolves moves, centers and LeBron's optionTim Bontemps and Brian Windhorst canvass the league for an early look at free agency's biggest storylines.Michael Allio/Icon SportswireRanking the top 15 QBs in college football in 2025Who do the people inside college football think are the best signal callers? We found out who they think will be the best.AP Photo/Jeffrey PhelpsMen's college basketball transfer rankings for the 2025-26 seasonThere have been 13 additions to our rankings as players continue to enter the portal after opening Monday. Trending NowPeter Joneleit/Icon SportswireOpening Day 2025: Inside Juan Soto's new chapter with MetsAfter a free agent megadeal that rocked the offseason, a new era begins for the Mets, New York and all of MLB.John McCreary/NHLI via Getty ImagesOvechkin career goal record chase: Tracker, highlights, moreFollow along as the Capitals star chases down Wayne Gretzky's record, including highlights of each goal and the upcoming schedule. Sign up to play the #1 Fantasy game!Create A LeagueJoin Public LeagueReactivate A LeagueMock Draft NowSign up to play the #1 Fantasy Baseball GameReactivate A LeagueCreate A LeagueJoin a Public LeaguePractice With a Mock DraftSign up for FREE!Reactivate A LeagueCreate A LeagueJoin a Public LeaguePractice With a Mock DraftESPN+ on Disney+Mike Windle/Getty Images for ESPNHow to watch ESPN+ on Disney+: Frequently asked questionsESPN+ is available on Disney+. Check out how to watch NHL, MLB, Pat McAfee, 30 for 30s and other exciting events now. Get a custom ESPN experienceEnjoy the benefits of a personalized accountSelect your favorite leagues, teams and players and get the latest scores, news and updates that matter most to you. \\n\\nESPN+\\n\\n\\n\\n\\nNCAA Women's Basketball\\n\\n\\n\\n\\n\\n\\n\\nUFC Fight Night: Moreno vs. Erceg\\n\\n\\n\\n\\n\\n\\n\\nNHL\\n\\n\\n\\n\\n\\n\\n\\nTop Rank Boxing: Mayer vs. Ryan 2\\n\\n\\n\\n\\n\\n\\n\\nPGA TOUR LIVE\\n\\n\\n\\n\\n\\n\\n\\nNCAA Men's Hockey Championship\\n\\n\\n\\n\\n\\n\\n\\nNWSL\\n\\n\\nQuick Links\\n\\n\\n\\n\\nMen's NCAA Bracket\\n\\n\\n\\n\\n\\n\\n\\nWomen's NCAA Bracket\\n\\n\\n\\n\\n\\n\\n\\nMen's Tournament Challenge\\n\\n\\n\\n\\n\\n\\n\\nWomen's Tournament Challenge\\n\\n\\n\\n\\n\\n\\n\\nNFL Free Agency\\n\\n\\n\\n\\n\\n\\n\\nNFL Draft\\n\\n\\n\\n\\n\\n\\n\\nMarch Madness History\\n\\n\\n\\n\\n\\n\\n\\nWhere To Watch\\n\\n\\n\\n\\n\\n\\n\\nMen's TC 2nd Chance\\n\\n\\n\\n\\n\\n\\n\\nWomen's TC 2nd Chance\\n\\n\\n\\n\\n\\n\\n\\nToday's Top Odds\\n\\n\\n\\n\\n\\n\\n\\nESPN Radio: Listen Live\\n\\n\\nFantasy\\n\\n\\n\\n\\nFootball\\n\\n\\n\\n\\n\\n\\n\\nBaseball\\n\\n\\n\\n\\n\\n\\n\\nHockey\\n\\n\\n\\n\\n\\n\\n\\nMen's Basketball\\n\\n\\n\\n\\n\\n\\n\\nWomen's Basketball\\n\\n\\nESPN Sites\\n\\n\\n\\n\\nESPN Deportes\\n\\n\\n\\n\\n\\n\\n\\nAndscape\\n\\n\\n\\n\\n\\n\\n\\nespnW\\n\\n\\n\\n\\n\\n\\n\\nESPNFC\\n\\n\\n\\n\\n\\n\\n\\nX Games\\n\\n\\n\\n\\n\\n\\n\\nSEC Network\\n\\n\\nESPN Apps\\n\\n\\n\\n\\nESPN\\n\\n\\n\\n\\n\\n\\n\\nESPN Fantasy\\n\\n\\n\\n\\n\\n\\n\\nTournament Challenge\\n\\n\\nFollow ESPN\\n\\n\\n\\n\\nFacebook\\n\\n\\n\\n\\n\\n\\n\\nX/Twitter\\n\\n\\n\\n\\n\\n\\n\\nInstagram\\n\\n\\n\\n\\n\\n\\n\\nSnapchat\\n\\n\\n\\n\\n\\n\\n\\nTikTok\\n\\n\\n\\n\\n\\n\\n\\nYouTube\\n\\n\\nTerms of UsePrivacy PolicyInterest-Based AdsÂ© ESPN Enterprises, Inc. All rights reserved.\\n\\n\\n\\n\\n\\n\\n\\n\\n\\n\\n\\n\\n\\n\\n\\n\\n\\n\")]"
      ]
     },
     "execution_count": 2,
     "metadata": {},
     "output_type": "execute_result"
    }
   ],
   "source": [
    "# WebBaseLoader 불러오기\n",
    "from langchain_community.document_loaders import WebBaseLoader\n",
    "\n",
    "# 텍스트 추출할 URL 입력\n",
    "loader = WebBaseLoader(\"https://www.espn.com/\")\n",
    "\n",
    "# ssl verification 에러 방지를 위한 코드\n",
    "loader.requests_kwargs = {'verify':False}\n",
    "\n",
    "# 웹 페이지에서 텍스트 추출\n",
    "data = loader.load()\n",
    "data"
   ]
  },
  {
   "cell_type": "markdown",
   "metadata": {},
   "source": [
    "### 헤드라인만 가져오기"
   ]
  },
  {
   "cell_type": "code",
   "execution_count": 3,
   "metadata": {},
   "outputs": [
    {
     "name": "stderr",
     "output_type": "stream",
     "text": [
      "/opt/anaconda3/envs/RAG_CODE/lib/python3.12/site-packages/urllib3/connectionpool.py:1061: InsecureRequestWarning: Unverified HTTPS request is being made to host 'www.espn.com'. Adding certificate verification is strongly advised. See: https://urllib3.readthedocs.io/en/1.26.x/advanced-usage.html#ssl-warnings\n",
      "  warnings.warn(\n"
     ]
    },
    {
     "data": {
      "text/plain": [
       "[Document(metadata={'source': 'https://www.espn.com/'}, page_content=\"Houston survives on 'beautiful' last-second play'Generational' talent Betts keeps No. 1 UCLA rollingBetts revels in walk-off HR after emotional weekDominant Morrow puts LSU in 3rd straight Elite 8Gottlieb defends MSU: JuJu not hurt on dirty playGiannis on LeBron's praise: Unfair to compare erasLiu ends U.S. drought, wins figure skating worldsUCLA lands MWC Player of Year Dent from portalYates' NFL draft board: Top 50 prospects Top HeadlinesHouston survives on 'beautiful' last-second play'Generational' talent Betts keeps No. 1 UCLA rollingBetts revels in walk-off HR after emotional weekDominant Morrow puts LSU in 3rd straight Elite 8Gottlieb defends MSU: JuJu not hurt on dirty playGiannis on LeBron's praise: Unfair to compare erasLiu ends U.S. drought, wins figure skating worldsUCLA lands MWC Player of Year Dent from portalYates' NFL draft board: Top 50 prospects\")]"
      ]
     },
     "execution_count": 3,
     "metadata": {},
     "output_type": "execute_result"
    }
   ],
   "source": [
    "import bs4\n",
    "\n",
    "# 텍스트 추출할 URL 입력\n",
    "loader = WebBaseLoader(\n",
    "    \"https://www.espn.com/\",\n",
    "    bs_kwargs = dict(\n",
    "        parse_only = bs4.SoupStrainer(\n",
    "            class_=(\"headlineStack top-headlines\")\n",
    "        )\n",
    "    )\n",
    ")   \n",
    "\n",
    "# ssl verification 에러 방지를 위한 코드\n",
    "loader.requests_kwargs = {'verify':False}\n",
    "\n",
    "# 웹 페이지에서 텍스트 추출\n",
    "data = loader.load()\n",
    "data"
   ]
  },
  {
   "cell_type": "markdown",
   "metadata": {},
   "source": [
    "### 여러 개의 웹페이지에서 텍스트를 추출"
   ]
  },
  {
   "cell_type": "code",
   "execution_count": 4,
   "metadata": {},
   "outputs": [
    {
     "data": {
      "text/plain": [
       "[Document(metadata={'source': 'https://www.espn.com/', 'title': 'ESPN - Serving Sports Fans. Anytime. Anywhere.', 'description': 'Visit ESPN for live scores, highlights and sports news. Stream exclusive games on ESPN+ and play fantasy sports.', 'language': 'en'}, page_content=\"\\n\\n\\n\\n\\n\\n\\n\\n\\nESPN - Serving Sports Fans. Anytime. Anywhere.\\n\\n\\n\\n\\n\\n\\n\\n\\n\\n\\n\\n\\n\\n\\n\\n\\n\\n\\n\\n\\n\\n\\n\\n\\n\\n\\n\\n\\n\\n\\n\\n\\n\\n\\n\\n\\n\\n\\n\\n\\n\\n\\n\\n\\n\\n\\n\\n\\n\\n\\n\\n\\n\\n\\n\\n\\n\\n\\n\\n\\n\\n\\n\\n\\n\\n\\n\\n\\n\\n\\n\\n\\n\\n\\n\\n\\n\\n\\n\\n\\n\\n\\n\\n\\n\\n\\n\\n\\n\\n\\n\\n\\n        Skip to main content\\n    \\n\\n        Skip to navigation\\n    \\n\\n\\n\\n\\n\\n\\n\\n\\n\\n\\n\\n\\n\\n\\n\\n\\n\\n\\n\\n\\n\\n\\n\\n\\n\\n\\n\\n\\n\\n\\n\\n\\n\\n<\\n\\n>\\n\\n\\n\\n\\n\\n\\n\\n\\n\\nMenuESPN\\n\\n\\n\\n\\n\\nscores\\n\\n\\n\\nNFLNBANHLNCAAMNCAAWSoccerMLBMore SportsBoxingCFLNCAACricketF1GamingGolfHorseLLWSMMANASCARNLLNBA G LeagueNBA Summer LeagueNCAAFNWSLOlympicsPLLProfessional WrestlingRacingRN BBRN FBRugbySports BettingTennisTGLUFLWNBAX GamesEditionsFantasyWatchESPN BETESPN+\\n\\n\\n\\n\\n\\n\\n\\n\\n\\n\\n\\n\\n\\n\\n\\n  \\n\\nSubscribe Now\\n\\n\\n\\n\\n\\nNCAA Women's Basketball\\n\\n\\n\\n\\n\\n\\n\\nUFC Fight Night: Moreno vs. Erceg\\n\\n\\n\\n\\n\\n\\n\\nFA Cup: Quarterfinals\\n\\n\\n\\n\\n\\n\\n\\nNHL\\n\\n\\n\\n\\n\\n\\n\\nTop Rank Boxing: Mayer vs. Ryan 2\\n\\n\\n\\n\\n\\n\\n\\nPGA TOUR LIVE\\n\\n\\n\\n\\n\\n\\n\\nNCAA Men's Hockey Championship\\n\\n\\n\\n\\n\\n\\n\\nLALIGA\\n\\n\\n\\n\\n\\n\\n\\nNWSL\\n\\n\\n\\n\\n\\n\\n\\nBundesliga\\n\\n\\nQuick Links\\n\\n\\n\\n\\nMen's NCAA Bracket\\n\\n\\n\\n\\n\\n\\n\\nWomen's NCAA Bracket\\n\\n\\n\\n\\n\\n\\n\\nMen's Tournament Challenge\\n\\n\\n\\n\\n\\n\\n\\nWomen's Tournament Challenge\\n\\n\\n\\n\\n\\n\\n\\nNFL Free Agency\\n\\n\\n\\n\\n\\n\\n\\nNFL Draft\\n\\n\\n\\n\\n\\n\\n\\nMarch Madness History\\n\\n\\n\\n\\n\\n\\n\\nWhere To Watch\\n\\n\\n\\n\\n\\n\\n\\nMen's TC 2nd Chance\\n\\n\\n\\n\\n\\n\\n\\nWomen's TC 2nd Chance\\n\\n\\n\\n\\n\\n\\n\\nToday's Top Odds\\n\\n\\n\\n\\n\\n\\n\\nESPN Radio: Listen Live\\n\\n\\n\\n\\n\\n\\nFavorites\\n\\n\\n\\n\\n\\n\\n      Manage Favorites\\n      \\n\\n\\n\\nCustomize ESPNCreate AccountLog InFantasy\\n\\n\\n\\n\\nFootball\\n\\n\\n\\n\\n\\n\\n\\nBaseball\\n\\n\\n\\n\\n\\n\\n\\nHockey\\n\\n\\n\\n\\n\\n\\n\\nMen's Basketball\\n\\n\\n\\n\\n\\n\\n\\nWomen's Basketball\\n\\n\\nESPN Sites\\n\\n\\n\\n\\nESPN Deportes\\n\\n\\n\\n\\n\\n\\n\\nAndscape\\n\\n\\n\\n\\n\\n\\n\\nespnW\\n\\n\\n\\n\\n\\n\\n\\nESPNFC\\n\\n\\n\\n\\n\\n\\n\\nX Games\\n\\n\\n\\n\\n\\n\\n\\nSEC Network\\n\\n\\nESPN Apps\\n\\n\\n\\n\\nESPN\\n\\n\\n\\n\\n\\n\\n\\nESPN Fantasy\\n\\n\\n\\n\\n\\n\\n\\nTournament Challenge\\n\\n\\nFollow ESPN\\n\\n\\n\\n\\nFacebook\\n\\n\\n\\n\\n\\n\\n\\nX/Twitter\\n\\n\\n\\n\\n\\n\\n\\nInstagram\\n\\n\\n\\n\\n\\n\\n\\nSnapchat\\n\\n\\n\\n\\n\\n\\n\\nTikTok\\n\\n\\n\\n\\n\\n\\n\\nYouTube\\n\\n\\nRanking the menâ€™s Elite Eight: Our 1-4 isnâ€™t all 1-seedsWe have our regional finalists. Let's rerank the eight remaining teams in the 2025 NCAA tournament.9hMyron MedcalfAP Photo/Frank Franklin IIYour guide to the final men's Sweet 16 games: Game winners, keys to the Elite EightRelive all of the action from Friday night, with analysis on Auburn's and Houston's wins, and more.9hESPN StaffğŸ�† Check your bracket!Best bets for men's Elite 8TOP HEADLINESHouston survives on 'beautiful' last-second play'Generational' talent Betts keeps No. 1 UCLA rollingBetts revels in walk-off HR after emotional weekDominant Morrow puts LSU in 3rd straight Elite 8Gottlieb defends MSU: JuJu not hurt on dirty playGiannis on LeBron's praise: Unfair to compare erasLiu ends U.S. drought, wins figure skating worldsUCLA lands MWC Player of Year Dent from portalYates' NFL draft board: Top 50 prospectsWOMEN'S NCAA TOURNAMENTYour guide to the women's Sweet 16: Pair of 1-seeds advance, Morrow and Betts starFollow along as we track the first four games of the Sweet 16 in the women's NCAA tournament.11hESPNJames Snook-Imagn ImagesğŸ�† Check your bracket!BEST OF MEN'S SWEET 16Houston draws up great play to score winner with under a second left10h0:20Coen Carr punishes rim after Michigan State steal12h0:16THE DANCE IS OVERWhat's next for all eight teams that lost in the Sweet 16For the teams whose dreams of reaching the men's Final Four are dashed, let's look ahead to next season.10hJeff Borzello and Myron MedcalfAP Photo/Michael ConroyForecasting next season for women's eliminated top seedsNC State has been eliminated. From portal priorities to incoming recruits, we look ahead to the Wolfpack next season.13hMichael VoepelAlika Jenner/Getty ImagesBEST OF WOMEN'S SWEET 16Lauren Betts joins elite company with 31-point, 10-rebound double-double9h1:52Aneesah Morrow's 30-point, 19-rebound double-double powers LSU to Elite Eight10h1:59GEARING UP FOR THE POSTSEASONNHL playoff watch: Guide to a pivotal 11-game SaturdayHere's what's at stake in each matchup, plus updated playoff projections, draft lottery standings and more.3hESPN StaffMaddie Meyer/Getty ImagesNHL Power Rankings: Latest updated poll, plus each team's strength of scheduleAs the playoff field solidifies, here's how our panel voted, along with each team's slate through April 17.1dESPN StaffWhy penalties (and power plays) are down this seasonPGA TOUR:  TEXAS CHILDREN'S HOUSTON OPENON ESPN+ THROUGH SUNDAYWatch live action from Memorial Park Golf CourseliveAROUND THE ASSOCIATIONNBA intel: Why one agent is preparing his players for a 'free agent recession'Tim Bontemps and Brian Windhorst canvass the league for an early look at free agency's biggest storylines.2dTim Bontemps and Brian WindhorstAP Photo/Michael ConroyPostseason tracker: Who has clinched?GLOBAL SOCCER SCOREBOARDğŸ“… Complete soccer scoreboard Top HeadlinesHouston survives on 'beautiful' last-second play'Generational' talent Betts keeps No. 1 UCLA rollingBetts revels in walk-off HR after emotional weekDominant Morrow puts LSU in 3rd straight Elite 8Gottlieb defends MSU: JuJu not hurt on dirty playGiannis on LeBron's praise: Unfair to compare erasLiu ends U.S. drought, wins figure skating worldsUCLA lands MWC Player of Year Dent from portalYates' NFL draft board: Top 50 prospectsFavorites FantasyManage FavoritesFantasy HomeCustomize ESPNCreate AccountLog InICYMI0:42Josh Giddey's half-court buzzer-beater wins it for Bulls over the LakersAustin Reaves gives the Lakers a lead, but Josh Giddey nails a half-court shot to win it for the Bulls. Best of ESPN+AP Photo/Michael ConroyNBA free agency intel: Wolves moves, centers and LeBron's optionTim Bontemps and Brian Windhorst canvass the league for an early look at free agency's biggest storylines.Michael Allio/Icon SportswireRanking the top 15 QBs in college football in 2025Who do the people inside college football think are the best signal callers? We found out who they think will be the best.AP Photo/Jeffrey PhelpsMen's college basketball transfer rankings for the 2025-26 seasonThere have been 13 additions to our rankings as players continue to enter the portal after opening Monday. Trending NowPeter Joneleit/Icon SportswireOpening Day 2025: Inside Juan Soto's new chapter with MetsAfter a free agent megadeal that rocked the offseason, a new era begins for the Mets, New York and all of MLB.John McCreary/NHLI via Getty ImagesOvechkin career goal record chase: Tracker, highlights, moreFollow along as the Capitals star chases down Wayne Gretzky's record, including highlights of each goal and the upcoming schedule. Sign up to play the #1 Fantasy game!Create A LeagueJoin Public LeagueReactivate A LeagueMock Draft NowSign up to play the #1 Fantasy Baseball GameReactivate A LeagueCreate A LeagueJoin a Public LeaguePractice With a Mock DraftSign up for FREE!Reactivate A LeagueCreate A LeagueJoin a Public LeaguePractice With a Mock DraftESPN+ on Disney+Mike Windle/Getty Images for ESPNHow to watch ESPN+ on Disney+: Frequently asked questionsESPN+ is available on Disney+. Check out how to watch NHL, MLB, Pat McAfee, 30 for 30s and other exciting events now. Get a custom ESPN experienceEnjoy the benefits of a personalized accountSelect your favorite leagues, teams and players and get the latest scores, news and updates that matter most to you. \\n\\nESPN+\\n\\n\\n\\n\\nNCAA Women's Basketball\\n\\n\\n\\n\\n\\n\\n\\nUFC Fight Night: Moreno vs. Erceg\\n\\n\\n\\n\\n\\n\\n\\nNHL\\n\\n\\n\\n\\n\\n\\n\\nTop Rank Boxing: Mayer vs. Ryan 2\\n\\n\\n\\n\\n\\n\\n\\nPGA TOUR LIVE\\n\\n\\n\\n\\n\\n\\n\\nNCAA Men's Hockey Championship\\n\\n\\n\\n\\n\\n\\n\\nNWSL\\n\\n\\nQuick Links\\n\\n\\n\\n\\nMen's NCAA Bracket\\n\\n\\n\\n\\n\\n\\n\\nWomen's NCAA Bracket\\n\\n\\n\\n\\n\\n\\n\\nMen's Tournament Challenge\\n\\n\\n\\n\\n\\n\\n\\nWomen's Tournament Challenge\\n\\n\\n\\n\\n\\n\\n\\nNFL Free Agency\\n\\n\\n\\n\\n\\n\\n\\nNFL Draft\\n\\n\\n\\n\\n\\n\\n\\nMarch Madness History\\n\\n\\n\\n\\n\\n\\n\\nWhere To Watch\\n\\n\\n\\n\\n\\n\\n\\nMen's TC 2nd Chance\\n\\n\\n\\n\\n\\n\\n\\nWomen's TC 2nd Chance\\n\\n\\n\\n\\n\\n\\n\\nToday's Top Odds\\n\\n\\n\\n\\n\\n\\n\\nESPN Radio: Listen Live\\n\\n\\nFantasy\\n\\n\\n\\n\\nFootball\\n\\n\\n\\n\\n\\n\\n\\nBaseball\\n\\n\\n\\n\\n\\n\\n\\nHockey\\n\\n\\n\\n\\n\\n\\n\\nMen's Basketball\\n\\n\\n\\n\\n\\n\\n\\nWomen's Basketball\\n\\n\\nESPN Sites\\n\\n\\n\\n\\nESPN Deportes\\n\\n\\n\\n\\n\\n\\n\\nAndscape\\n\\n\\n\\n\\n\\n\\n\\nespnW\\n\\n\\n\\n\\n\\n\\n\\nESPNFC\\n\\n\\n\\n\\n\\n\\n\\nX Games\\n\\n\\n\\n\\n\\n\\n\\nSEC Network\\n\\n\\nESPN Apps\\n\\n\\n\\n\\nESPN\\n\\n\\n\\n\\n\\n\\n\\nESPN Fantasy\\n\\n\\n\\n\\n\\n\\n\\nTournament Challenge\\n\\n\\nFollow ESPN\\n\\n\\n\\n\\nFacebook\\n\\n\\n\\n\\n\\n\\n\\nX/Twitter\\n\\n\\n\\n\\n\\n\\n\\nInstagram\\n\\n\\n\\n\\n\\n\\n\\nSnapchat\\n\\n\\n\\n\\n\\n\\n\\nTikTok\\n\\n\\n\\n\\n\\n\\n\\nYouTube\\n\\n\\nTerms of UsePrivacy PolicyInterest-Based AdsÂ© ESPN Enterprises, Inc. All rights reserved.\\n\\n\\n\\n\\n\\n\\n\\n\\n\\n\\n\\n\\n\\n\\n\\n\\n\\n\"),\n",
       " Document(metadata={'source': 'https://google.com', 'title': 'Google', 'language': 'ko'}, page_content='Google검색 이미지 지도 Play YouTube 뉴스 Gmail 드라이브 더보기 »웹 기록 | 설정 | 로그인\\xa0고급검색Google 지원 언어:  English 광고비즈니스 솔루션Google 정보Google.co.kr© 2025 - 개인정보처리방침 - 약관 ')]"
      ]
     },
     "execution_count": 4,
     "metadata": {},
     "output_type": "execute_result"
    }
   ],
   "source": [
    "loader = WebBaseLoader([\"https://www.espn.com/\", \"https://google.com\"])\n",
    "docs = loader.load()\n",
    "docs"
   ]
  }
 ],
 "metadata": {
  "kernelspec": {
   "display_name": "RAG_CODE",
   "language": "python",
   "name": "python3"
  },
  "language_info": {
   "codemirror_mode": {
    "name": "ipython",
    "version": 3
   },
   "file_extension": ".py",
   "mimetype": "text/x-python",
   "name": "python",
   "nbconvert_exporter": "python",
   "pygments_lexer": "ipython3",
   "version": "3.12.2"
  }
 },
 "nbformat": 4,
 "nbformat_minor": 2
}
