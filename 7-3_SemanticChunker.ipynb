{
 "cells": [
  {
   "cell_type": "code",
   "execution_count": 2,
   "metadata": {},
   "outputs": [
    {
     "name": "stderr",
     "output_type": "stream",
     "text": [
      "/var/folders/nb/m5pjt20x3jq26zr0wyzw53zw0000gn/T/ipykernel_3869/1187891095.py:13: LangChainDeprecationWarning: The class `HuggingFaceEmbeddings` was deprecated in LangChain 0.2.2 and will be removed in 1.0. An updated version of the class exists in the :class:`~langchain-huggingface package and should be used instead. To use it run `pip install -U :class:`~langchain-huggingface` and import as `from :class:`~langchain_huggingface import HuggingFaceEmbeddings``.\n",
      "  embeddings = HuggingFaceEmbeddings(model_name=\"snunlp/KR-SBERT-V40K-klueNLI-augSTS\")\n",
      "/opt/anaconda3/envs/RAG_CODE/lib/python3.12/site-packages/tqdm/auto.py:21: TqdmWarning: IProgress not found. Please update jupyter and ipywidgets. See https://ipywidgets.readthedocs.io/en/stable/user_install.html\n",
      "  from .autonotebook import tqdm as notebook_tqdm\n"
     ]
    },
    {
     "name": "stdout",
     "output_type": "stream",
     "text": [
      "----------------------------------------------------------------------------------------------------\n",
      "[첫번째 청크]\n",
      "1\n",
      "인공지능 언어모형을 이용한 인플레이션 어조지수 개발 및 시사점\n",
      "뉴스기사, 소셜미디어와 같은 텍스트 데이터는 크게 두 가지 경로를 \n",
      "통해 경제 분석에 유용한 정보를 제공할 수 있다. 첫째, 지정학적 리스\n",
      "크, 이상기후 등 이벤트는 수입물가지수와 같은 공식통계에 앞서 뉴스 \n",
      "속보나 인터넷 커뮤니티에 먼저 반영되며 향후 인플레이션 수준에 대한 \n",
      "정보를 제공한다. 둘째, 거시경제 여건, 기업의 가격설정 행태 등에 대\n",
      "한 언론 보도는 기업의 인플레이션 기대를 변화시킴으로써 의사결정에 \n",
      "영향을 미칠 수 있다. 그러나, 이러한 중요성에도 불구하고, 텍스트 데\n",
      "이터는 계량화가 쉽지 않아 경제 분석에 활용하는 데 어려움이 크다는 \n",
      "평가도 있다(로버트 쉴러, 2013년 노벨 경제학상 수상). 최근 정보통신 및 인공지능 기술과 함께 텍스트 분석기법이 빠르게 \n",
      "발전하면서 경제 분석에 텍스트를 활용하려는 시도가 점차 늘고 있다. 대표적으로 뉴스기사에 반영된 경제 불확실성을 측정하거나 중앙은행 \n",
      "회의록에 반영된 통화정책 기조를 평가한 연구가 있으며, 각국 중앙은\n",
      "행도 텍스트에 반영된 경제주체의 심리를 파악하여 경기상황을 판단하\n",
      "거나 전망하기 위해 노력하고 있다. 이들 연구는 문서내 단어별 빈도를 \n",
      "계산하는 간단한 방법부터 단어의 문맥적 의미를 파악하는 딥러닝 알\n",
      "고리즘까지 다양한 분석기법을 활용하고 있다.\n",
      "----------------------------------------------------------------------------------------------------\n",
      "[두번째 청크]\n",
      "이 가운데, 최근 특히 \n",
      "주목받는 분석기법으로 인공지능 언어모형이 있다. 자연어는 문맥에 \n",
      "따라 단어의 의미가 달라지기 때문에, 정확도 높은 모형을 훈련하는 데 \n",
      "상당한 시간과 비용이 소요된다. 이에 대안으로 제시된 인공지능 언어\n",
      "모형은 기존 훈련 결과를 재활용함으로써 개발 시간과 비용은 절감하\n",
      "면서도 문서 분류, 검색 등 과제에서 높은 정확도를 보이고 있다. 본 연구는 인공지능 언어모형을 이용하여 뉴스기사에 나타난 인플레\n",
      "이션 어조(tone)를 측정하고, 인플레이션 전망에 활용할 수 있는지 살\n",
      "펴보았다. 먼저, 인공지능 언어모형을 이용하여 개별 문장의 인플레\n",
      "이션 어조를 상승, 중립, 하락으로 분류하고, 문장별 어조를 집계하여 \n",
      "전체 뉴스기사의 인플레이션 어조를 지수로 나타내었다. 다음으로, 어\n",
      "조지수와 소비자물가상승률의 관계를 분석하였다.\n"
     ]
    }
   ],
   "source": [
    "# PyPDFLoader & SemanticChunker\n",
    "from langchain.document_loaders import PyPDFLoader\n",
    "from langchain_experimental.text_splitter import SemanticChunker\n",
    "from langchain.embeddings import HuggingFaceEmbeddings\n",
    "\n",
    "# PDF파일 불러올 객체 PyPDFLoader 선언\n",
    "loader = PyPDFLoader('data/BOK 이슈노트 제2022-38호 인공지능 언어모형을 이용한 인플레이션 어조지수 개발 및 시사점.pdf')\n",
    "\n",
    "# PDF파일 로드 및 페이지별로 자르기\n",
    "pages = loader.load_and_split()\n",
    "\n",
    "# 문서 분할기 선언\n",
    "embeddings = HuggingFaceEmbeddings(model_name=\"snunlp/KR-SBERT-V40K-klueNLI-augSTS\")\n",
    "text_splitter = SemanticChunker(embeddings)\n",
    "texts = text_splitter.split_documents(pages)\n",
    "\n",
    "print(\"-\"*100)\n",
    "print(\"[첫번째 청크]\")\n",
    "print(texts[0].page_content)\n",
    "print(\"-\"*100)\n",
    "print(\"[두번째 청크]\")\n",
    "print(texts[1].page_content)"
   ]
  },
  {
   "cell_type": "code",
   "execution_count": 3,
   "metadata": {},
   "outputs": [
    {
     "name": "stdout",
     "output_type": "stream",
     "text": [
      "[672, 420, 1085, 1177, 293, 541, 167, 703, 1028, 737, 1083, 748, 1238, 1287, 616, 455, 945, 1224, 536, 612, 788, 388, 828, 436, 680, 532, 778, 1254, 280, 841, 753, 573, 1532, 309, 2114, 9]\n"
     ]
    }
   ],
   "source": [
    "print([len(text.page_content) for text in texts])"
   ]
  }
 ],
 "metadata": {
  "kernelspec": {
   "display_name": "RAG_CODE",
   "language": "python",
   "name": "python3"
  },
  "language_info": {
   "codemirror_mode": {
    "name": "ipython",
    "version": 3
   },
   "file_extension": ".py",
   "mimetype": "text/x-python",
   "name": "python",
   "nbconvert_exporter": "python",
   "pygments_lexer": "ipython3",
   "version": "3.12.9"
  }
 },
 "nbformat": 4,
 "nbformat_minor": 2
}
