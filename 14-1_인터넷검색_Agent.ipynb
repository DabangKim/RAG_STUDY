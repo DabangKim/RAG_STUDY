{
 "cells": [
  {
   "cell_type": "markdown",
   "id": "a792d772",
   "metadata": {},
   "source": [
    "### Tavily AI를 인터넷 검색 Tool로 설정"
   ]
  },
  {
   "cell_type": "code",
   "execution_count": 1,
   "id": "dca9e303",
   "metadata": {},
   "outputs": [],
   "source": [
    "import os\n",
    "from dotenv import load_dotenv\n",
    "from langchain_community.tools.tavily_search import TavilySearchResults\n",
    "\n",
    "# API Key 환경변수 설정\n",
    "load_dotenv()\n",
    "TAVILY_API_KEY = os.getenv(\"TAVILY_API_KEY\")\n",
    "OPENAI_API_KEY = os.getenv(\"OPENAI_API_KEY\")\n",
    "os.environ['TAVILY_API_KEY'] = TAVILY_API_KEY\n",
    "os.environ['OPENAI_API_KEY'] = OPENAI_API_KEY\n",
    "\n",
    "# Tavily 검색 API를 Tool로 호출\n",
    "tools = [TavilySearchResults()]"
   ]
  },
  {
   "cell_type": "markdown",
   "id": "1e30c5e5",
   "metadata": {},
   "source": [
    "### Agent 구축"
   ]
  },
  {
   "cell_type": "code",
   "execution_count": 2,
   "id": "d26e4bea",
   "metadata": {},
   "outputs": [
    {
     "name": "stderr",
     "output_type": "stream",
     "text": [
      "/opt/anaconda3/envs/RAG_CODE/lib/python3.12/site-packages/langsmith/client.py:277: LangSmithMissingAPIKeyWarning: API key must be provided when using hosted LangSmith API\n",
      "  warnings.warn(\n"
     ]
    },
    {
     "name": "stdout",
     "output_type": "stream",
     "text": [
      "\n",
      "\n",
      "\u001b[1m> Entering new AgentExecutor chain...\u001b[0m\n",
      "\u001b[32;1m\u001b[1;3m\n",
      "Invoking: `tavily_search_results_json` with `{'query': '현재 대한민국 대통령'}`\n",
      "\n",
      "\n",
      "\u001b[0m\u001b[36;1m\u001b[1;3m[{'title': '대한민국 대통령 목록 - 위키백과, 우리 모두의 백과사전', 'url': 'https://ko.wikipedia.org/wiki/%EB%8C%80%ED%95%9C%EB%AF%BC%EA%B5%AD_%EB%8C%80%ED%86%B5%EB%A0%B9_%EB%AA%A9%EB%A1%9D', 'content': '1·2·3 이승만\\n4 윤보선\\n5·6·7·8·9 박정희\\n10 최규하\\n11·12 전두환\\n13 노태우\\n\\n| \\n\\n|\\n| \\n\\n14 김영삼\\n15 김대중\\n16 노무현\\n17 이명박\\n18 박근혜\\n19 문재인\\n20 윤석열\\n\\n|\\n| \\n\\n고조선\\n부여\\n고구려\\n백제\\n신라\\n가야\\n탐라\\n발해\\n후삼국\\n고려\\n조선\\n대한제국\\n일제강점기\\n조선 이왕\\n대한민국 임시정부\\n대한민국\\n조선민주주의인민공화국\\n\\n|\\n| \\n*   v\\n*   t\\n*   e\\n대한민국의 대통령과 3부요인 및 헌법기관장\\n|\\n| --- |\\n| \\n\\n대통령(윤석열)\\n국회의장(우원식)\\n대법원장(조희대)\\n헌법재판소장(공석)\\n국무총리(한덕수)\\n중앙선거관리위원장(노태악)\\n\\n|\\n원본 주소 \"https://ko.wikipedia.org/w/index.php?title=대한민국_대통령_목록&oldid=38563423\"\\n분류:\\n\\n대한민국의 대통령\\n대한민국 정치에 관한 목록\\n대통령 목록\\n대한민국 사람 목록\\n\\n숨은 분류: [...] 이승만, 윤보선, 최규하는 대통령 임기 도중 사임했고, 박정희는 대한민국의 대통령 중 유일하게 임기 도중 암살당했다. 대한민국 최초의 여성 대통령 박근혜는 박근혜-최순실 게이트에 관한 여러 논란으로 탄핵되었으며, 이전에도 노무현에 대한 탄핵소추안이 통과된 사례는 있었지만 당시에는 헌법재판소에 의해 기각되었다.[2] 1960년 4월 허정 외무부장관은 대한민국 역사상 처음으로 이승만의 사임 이후 대통령 권한대행으로 임명되며 대통령의 권한을 대행하는 최초의 선례를 세웠다.[3]\\n2022년 5월 10일 취임한 윤석열 대통령이 윤석열 대통령 탄핵소추로 인해 대통령 직무가 정지되었으며, 그 결과 한덕수 국무총리가 권한대행을 맡았다.[4] 그러나 한덕수 국무총리 탄핵소추가 국회에서 가결되며 그의 모든 직무가 정지되었으며, 권한대행 2순위인 기획재정부 장관 최상목이 권한대행을 이어받아 수행하고 있다.[5]\\n대통령 목록\\n| 번[a] | 초상 | 이름 [...] 자유한국당(2017)\\n| 18 | 000000002013-02-25-00002013년 2월 25일 ~ 000000002016-12-09-00002016년 12월 9일[g] | 2012 / 직선 51.55% |\\n| 황교안 국무총리 권한대행 000000002016-12-09-00002016년 12월 9일 ~ 000000002017-05-10-00002017년 5월 10일[g] |\\n| 12 |  | 문재인\\n(b. 1953)\\n[31] |  | 더불어민주당(2017~2022) | 19 | 000000002017-05-10-00002017년 5월 10일[h] ~ 000000002022-05-09-00002022년 5월 9일 | 2017 / 직선 41.08% |\\n| 13 |  | 윤석열\\n(b. 1960)', 'score': 0.8576849}, {'title': '대한민국 대통령 - 위키백과, 우리 모두의 백과사전', 'url': 'https://ko.wikipedia.org/wiki/%EB%8C%80%ED%95%9C%EB%AF%BC%EA%B5%AD_%EB%8C%80%ED%86%B5%EB%A0%B9', 'content': '본문으로 이동\\n주 메뉴\\n검색\\n기부\\n계정 만들기\\n로그인\\n개인 도구\\n목차 토글\\n대한민국 대통령\\n50개 언어\\n문서\\n토론\\n읽기\\n편집\\n역사 보기\\n도구\\n위키백과, 우리 모두의 백과사전.\\n이 문서는 대한민국의 대통령에 관한 것입니다. 대한민국 대통령 직위를 수행한 인물들의 목록에 대해서는 대한민국 대통령 목록 문서를 참고하십시오.\\n대한민국 대통령\\n대한민국 대통령의 문장\\n대한민국 대통령의 기\\n현직:\\n윤석열(20대)\\n\\xa02022년 5월 10일 취임\\n권한대행:\\n최상목\\n\\xa02024년 12월 27일 취임\\n관저  대한민국 대통령실\\n임기  5년 (단임제)\\n초대  이승만\\n설치일 1948년 8월 15일\\n웹사이트    http://www.president.go.kr/\\n대한민국\\n대한민국의 정치\\n법\\n입법부\\n행정부\\n사법부\\n선거\\n정당\\n한반도 분쟁\\n대외 관계\\n대한민국 포털\\n다른 나라\\nvte [...] \"대통령은 정치활동 자유보다 선거중립의무 우선” 헌재, 노 대통령 헌법소원 기각, 법률신문, 2008.01.21 Archived 2018년 3월 10일 - 웨이백 머신\\n외부 링크[편집]\\n 위키미디어 공용에 대한민국 대통령 관련 미디어 분류가 있습니다.\\n한국의 대통령 - 두산세계대백과사전\\n대통령기록관 - 행정안전부\\nvte\\n대한민국 역대 대통령(목록)\\n1·2·3 이승만4 윤보선5·6·7·8·9 박정희10 최규하11·12 전두환13 노태우\\n14 김영삼15 김대중16 노무현17 이명박18 박근혜19 문재인20 윤석열\\n고조선부여고구려백제신라가야탐라발해후삼국고려조선대한제국일제강점기조선 이왕대한민국 임시정부대한민국조선민주주의인민공화국\\nvte\\n대한민국의 역대 대통령 권한대행(목록)\\n허정곽상훈허정백낙준박정희\\n최규하박충훈고건황교안한덕수최상목\\n대통령\\n고조선부여고구려백제신라가야탐라발해후삼국고려조선대한제국일제강점기조선 이왕대한민국 임시정부대한민국조선민주주의인민공화국\\nvte\\n대한민국의 대통령 선거\\n제2대 [...] 현재 생존하고 있는 전직 대통령은 이명박, 박근혜, 문재인으로 총 3명이지만, 이중 문재인 대통령을 제외한 두 대통령은 전직 대통령에 대한 예우가 박탈되었다. 박근혜는 사면 복권으로 출소하면서 경호 기간내여서 경호 예우는 받게 되었다. 이명박은 구속 수감되었으나, 배우자가 살아있어 경호기간 내에 배우자가 예우에 따른 경호를 계속 받고 있다. 전직 대통령 예우 박탈 사유는 이명박은 재임기간 중 직권남용, 뇌물수수, 대통령기록물법 위반 등 여러 가지 혐의, 박근혜는 탄핵으로 인해 대통령 예우가 각각 박탈되었다.\\n장례와 안장[편집]', 'score': 0.82254606}, {'title': '대한민국 대통령 - 나무위키', 'url': 'https://namu.wiki/w/%EB%8C%80%ED%95%9C%EB%AF%BC%EA%B5%AD%20%EB%8C%80%ED%86%B5%EB%A0%B9', 'content': '2025년 4월 4일 기준 대한민국의 현직 대통령은 없으며, 한덕수 국무총리가 대통령 권한을 대행하고 있다.', 'score': 0.7869018}, {'title': '대통령기록관 - 대한민국 청와대', 'url': 'http://18president.pa.go.kr/cheongwadae/introduction/pastPresident.php', 'content': '대통령기록관 · 박근혜. 18대 박근혜 대통령. 재임 2013~현재 · 이명박 대통령. 17대 이명박 대통령. 재임 2008~2013 · 노무현 대통령. 16대 노무현 대통령 · 김대중 대통령.', 'score': 0.7485182}, {'title': '대한민국 대통령 | 주자메이카 대한민국 대사관(주킹스턴분관) - 외교부', 'url': 'https://overseas.mofa.go.kr/jm-ko/wpge/m_22420/contents.do', 'content': '년도별 이력 및 수상내역. 2021, 현재, 제 19대 대한민국 대통령. 2017~2001, 2017.05, 제 19대 대한민국 대통령 당선. 2015.12 ~ 2016.01, 더불어민주당 당대표.', 'score': 0.6554468}]\u001b[0m\u001b[32;1m\u001b[1;3m현재 대한민국의 대통령은 윤석열입니다. 그는 2022년 5월 10일에 취임하였습니다. 추가적인 정보는 [위키백과](https://ko.wikipedia.org/wiki/%EB%8C%80%ED%95%9C%EB%AF%BC%EA%B5%AD_%EB%8C%80%ED%86%B5%EB%A0%B9)에서 확인할 수 있습니다.\u001b[0m\n",
      "\n",
      "\u001b[1m> Finished chain.\u001b[0m\n"
     ]
    },
    {
     "data": {
      "text/plain": [
       "{'input': '현재 대한민국의 대통령은 누구야?',\n",
       " 'output': '현재 대한민국의 대통령은 윤석열입니다. 그는 2022년 5월 10일에 취임하였습니다. 추가적인 정보는 [위키백과](https://ko.wikipedia.org/wiki/%EB%8C%80%ED%95%9C%EB%AF%BC%EA%B5%AD_%EB%8C%80%ED%86%B5%EB%A0%B9)에서 확인할 수 있습니다.'}"
      ]
     },
     "execution_count": 2,
     "metadata": {},
     "output_type": "execute_result"
    }
   ],
   "source": [
    "from langchain import hub\n",
    "from langchain_openai import ChatOpenAI\n",
    "from langchain.agents import AgentExecutor, create_openai_tools_agent\n",
    "\n",
    "# Agent에서 Tool을 활용하기 위한 프롬프트\n",
    "prompt = hub.pull(\"hwchase17/openai-tools-agent\")\n",
    "llm = ChatOpenAI(model=\"gpt-4o-mini\", temperature=0.7)\n",
    "\n",
    "# LLM, Tool, 프롬프트를 사용하여 에이전트 생성\n",
    "agent = create_openai_tools_agent(llm, tools, prompt)\n",
    "\n",
    "# 에이전트 실행\n",
    "agent_executor = AgentExecutor(agent=agent, tools=tools, verbose=True)\n",
    "agent_executor.invoke({\"input\": \"현재 대한민국의 대통령은 누구야?\"})"
   ]
  }
 ],
 "metadata": {
  "kernelspec": {
   "display_name": "RAG_CODE",
   "language": "python",
   "name": "python3"
  },
  "language_info": {
   "codemirror_mode": {
    "name": "ipython",
    "version": 3
   },
   "file_extension": ".py",
   "mimetype": "text/x-python",
   "name": "python",
   "nbconvert_exporter": "python",
   "pygments_lexer": "ipython3",
   "version": "3.12.9"
  }
 },
 "nbformat": 4,
 "nbformat_minor": 5
}
