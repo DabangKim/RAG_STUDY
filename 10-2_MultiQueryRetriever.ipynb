{
 "cells": [
  {
   "cell_type": "code",
   "execution_count": 1,
   "metadata": {},
   "outputs": [
    {
     "name": "stderr",
     "output_type": "stream",
     "text": [
      "/opt/anaconda3/envs/RAG_CODE/lib/python3.12/site-packages/tqdm/auto.py:21: TqdmWarning: IProgress not found. Please update jupyter and ipywidgets. See https://ipywidgets.readthedocs.io/en/stable/user_install.html\n",
      "  from .autonotebook import tqdm as notebook_tqdm\n"
     ]
    }
   ],
   "source": [
    "from langchain.document_loaders import PyPDFLoader\n",
    "from langchain_text_splitters import RecursiveCharacterTextSplitter\n",
    "from langchain_huggingface import HuggingFaceEmbeddings\n",
    "from langchain_chroma import Chroma\n",
    "\n",
    "# Chroma DB에서 문서 삭제\n",
    "Chroma().delete_collection()\n",
    "\n",
    "# HuggingfaceEmbedding 함수로 Open source 임베딩 모델 로드\n",
    "ko_embedding = HuggingFaceEmbeddings(\n",
    "    model_name=\"snunlp/KR-SBERT-V40K-klueNLI-augSTS\",\n",
    ")\n",
    "\n",
    "# PDF 파일 로드 및 분할\n",
    "loader = PyPDFLoader(\"data/대한민국헌법(헌법)(제00010호)(19880225).pdf\")\n",
    "pages = loader.load_and_split()\n",
    "\n",
    "# 청크 크기 및 중첩 설정\n",
    "text_splitter = RecursiveCharacterTextSplitter(chunk_size = 500, chunk_overlap = 100)\n",
    "docs = text_splitter.split_documents(pages)\n",
    "\n",
    "# ChromaDB에 청크들을 벡터 임베딩으로 저장\n",
    "db = Chroma.from_documents(docs, ko_embedding)"
   ]
  },
  {
   "cell_type": "code",
   "execution_count": 2,
   "metadata": {},
   "outputs": [
    {
     "name": "stderr",
     "output_type": "stream",
     "text": [
      "INFO:langchain.retrievers.multi_query:Generated queries: ['1. 국회의원이 지켜야 할 주요 책임과 의무는 무엇인가요?', '2. 국회의원의 역할과 그들이 수행해야 하는 구체적인 임무는 무엇인지 알고 싶습니다.', '3. 국회의원의 권한과 책임을 설명해 주세요.']\n"
     ]
    },
    {
     "data": {
      "text/plain": [
       "7"
      ]
     },
     "execution_count": 2,
     "metadata": {},
     "output_type": "execute_result"
    }
   ],
   "source": [
    "from langchain_ollama import ChatOllama\n",
    "from langchain.retrievers.multi_query import MultiQueryRetriever\n",
    "\n",
    "# question으로 질문 저장\n",
    "question = \"국회의원의 의무는 무엇이 있나요?\"\n",
    "\n",
    "# 여러 버전의 질문으로 변환하는 역할을 맡을 LLM 선언\n",
    "llm = ChatOllama(\n",
    "    model = \"basic_kanana\",\n",
    "    temperature = 0\n",
    ")\n",
    "\n",
    "# MultiQueryRetriever에 벡터DB 기반 Retriever와 LLM 선언\n",
    "retriever_from_llm = MultiQueryRetriever.from_llm(\n",
    "    retriever = db.as_retriever(),\n",
    "    llm = llm\n",
    ")\n",
    "\n",
    "# 여러 버전의 문장 생성 결과를 확인하기 위한 로깅 과정\n",
    "import logging\n",
    "logging.basicConfig()\n",
    "logging.getLogger(\"langchain.retrievers.multi_query\").setLevel(logging.INFO)\n",
    "\n",
    "# 여러 버전 질문 생성 결과와 유사 청크 검색 개수 출력\n",
    "unique_docs = retriever_from_llm.invoke(input=question)\n",
    "len(unique_docs)"
   ]
  }
 ],
 "metadata": {
  "kernelspec": {
   "display_name": "RAG_CODE",
   "language": "python",
   "name": "python3"
  },
  "language_info": {
   "codemirror_mode": {
    "name": "ipython",
    "version": 3
   },
   "file_extension": ".py",
   "mimetype": "text/x-python",
   "name": "python",
   "nbconvert_exporter": "python",
   "pygments_lexer": "ipython3",
   "version": "3.12.9"
  }
 },
 "nbformat": 4,
 "nbformat_minor": 2
}
