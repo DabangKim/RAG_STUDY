{
 "cells": [
  {
   "cell_type": "markdown",
   "metadata": {},
   "source": [
    "### 문서 저장"
   ]
  },
  {
   "cell_type": "code",
   "execution_count": 1,
   "metadata": {},
   "outputs": [
    {
     "name": "stderr",
     "output_type": "stream",
     "text": [
      "/opt/anaconda3/envs/RAG_CODE/lib/python3.12/site-packages/tqdm/auto.py:21: TqdmWarning: IProgress not found. Please update jupyter and ipywidgets. See https://ipywidgets.readthedocs.io/en/stable/user_install.html\n",
      "  from .autonotebook import tqdm as notebook_tqdm\n"
     ]
    }
   ],
   "source": [
    "from langchain.document_loaders import PyPDFLoader\n",
    "from langchain_text_splitters import RecursiveCharacterTextSplitter\n",
    "from langchain.vectorstores import Chroma\n",
    "from langchain_huggingface import HuggingFaceEmbeddings\n",
    "\n",
    "# 임베딩 모델을 로드\n",
    "embeddings = HuggingFaceEmbeddings(\n",
    "    model_name=\"snunlp/KR-SBERT-V40K-klueNLI-augSTS\"\n",
    ")\n",
    "\n",
    "# PDF 파일을 로드하고 페이지를 분할\n",
    "loader = PyPDFLoader(\"data/대한민국헌법(헌법)(제00010호)(19880225).pdf\")\n",
    "pages = loader.load_and_split()\n",
    "text_splitter = RecursiveCharacterTextSplitter(chunk_size=500, chunk_overlap=100)\n",
    "docs = text_splitter.split_documents(pages)\n",
    "\n",
    "# Chroma DB에 문서 저장\n",
    "db = Chroma.from_documents(docs, embeddings)"
   ]
  },
  {
   "cell_type": "markdown",
   "metadata": {},
   "source": [
    "### 문서 검색"
   ]
  },
  {
   "cell_type": "code",
   "execution_count": 2,
   "metadata": {},
   "outputs": [
    {
     "name": "stdout",
     "output_type": "stream",
     "text": [
      "page_content='후임자를 선거한다.\n",
      " \n",
      "제69조 대통령은 취임에 즈음하여 다음의 선서를 한다.\n",
      "“나는 헌법을 준수하고 국가를 보위하며 조국의 평화적 통일과 국민의 자유와 복리의 증진 및 민족문화의 창달에\n",
      "노력하여 대통령으로서의 직책을 성실히 수행할 것을 국민 앞에 엄숙히 선서합니다.”\n",
      " \n",
      "제70조 대통령의 임기는 5년으로 하며, 중임할 수 없다.\n",
      " \n",
      "제71조 대통령이 궐위되거나 사고로 인하여 직무를 수행할 수 없을 때에는 국무총리, 법률이 정한 국무위원의 순서로\n",
      "그 권한을 대행한다.\n",
      " \n",
      "제72조 대통령은 필요하다고 인정할 때에는 외교ㆍ국방ㆍ통일 기타 국가안위에 관한 중요정책을 국민투표에 붙일 수\n",
      "있다.\n",
      " \n",
      "제73조 대통령은 조약을 체결ㆍ비준하고, 외교사절을 신임ㆍ접수 또는 파견하며, 선전포고와 강화를 한다.\n",
      " \n",
      "제74조 ①대통령은 헌법과 법률이 정하는 바에 의하여 국군을 통수한다.\n",
      "②국군의 조직과 편성은 법률로 정한다.' metadata={'creationdate': '2024-04-01T21:26:24+09:00', 'creator': 'PyPDF', 'moddate': '2024-04-01T21:26:24+09:00', 'page': 6, 'page_label': '7', 'producer': 'iText 2.1.7 by 1T3XT', 'source': 'data/대한민국헌법(헌법)(제00010호)(19880225).pdf', 'total_pages': 14}\n"
     ]
    }
   ],
   "source": [
    "query = \"대통령의 임기는?\"\n",
    "\n",
    "# 유사 문서 검색\n",
    "docs = db.similarity_search(query)\n",
    "print(docs[0])"
   ]
  },
  {
   "cell_type": "code",
   "execution_count": 3,
   "metadata": {},
   "outputs": [
    {
     "data": {
      "text/plain": [
       "[(Document(metadata={'creationdate': '2024-04-01T21:26:24+09:00', 'creator': 'PyPDF', 'moddate': '2024-04-01T21:26:24+09:00', 'page': 6, 'page_label': '7', 'producer': 'iText 2.1.7 by 1T3XT', 'source': 'data/대한민국헌법(헌법)(제00010호)(19880225).pdf', 'total_pages': 14}, page_content='후임자를 선거한다.\\n \\n제69조 대통령은 취임에 즈음하여 다음의 선서를 한다.\\n“나는 헌법을 준수하고 국가를 보위하며 조국의 평화적 통일과 국민의 자유와 복리의 증진 및 민족문화의 창달에\\n노력하여 대통령으로서의 직책을 성실히 수행할 것을 국민 앞에 엄숙히 선서합니다.”\\n \\n제70조 대통령의 임기는 5년으로 하며, 중임할 수 없다.\\n \\n제71조 대통령이 궐위되거나 사고로 인하여 직무를 수행할 수 없을 때에는 국무총리, 법률이 정한 국무위원의 순서로\\n그 권한을 대행한다.\\n \\n제72조 대통령은 필요하다고 인정할 때에는 외교ㆍ국방ㆍ통일 기타 국가안위에 관한 중요정책을 국민투표에 붙일 수\\n있다.\\n \\n제73조 대통령은 조약을 체결ㆍ비준하고, 외교사절을 신임ㆍ접수 또는 파견하며, 선전포고와 강화를 한다.\\n \\n제74조 ①대통령은 헌법과 법률이 정하는 바에 의하여 국군을 통수한다.\\n②국군의 조직과 편성은 법률로 정한다.'),\n",
       "  339.7977600097656),\n",
       " (Document(metadata={'creationdate': '2024-04-01T21:26:24+09:00', 'creator': 'PyPDF', 'moddate': '2024-04-01T21:26:24+09:00', 'page': 9, 'page_label': '10', 'producer': 'iText 2.1.7 by 1T3XT', 'source': 'data/대한민국헌법(헌법)(제00010호)(19880225).pdf', 'total_pages': 14}, page_content='하기 위하여 대통령 소속하에 감사원을 둔다.\\n \\n제98조 ①감사원은 원장을 포함한 5인 이상 11인 이하의 감사위원으로 구성한다.\\n②원장은 국회의 동의를 얻어 대통령이 임명하고, 그 임기는 4년으로 하며, 1차에 한하여 중임할 수 있다.\\n③감사위원은 원장의 제청으로 대통령이 임명하고, 그 임기는 4년으로 하며, 1차에 한하여 중임할 수 있다.\\n \\n제99조 감사원은 세입ㆍ세출의 결산을 매년 검사하여 대통령과 차년도국회에 그 결과를 보고하여야 한다.\\n \\n제100조 감사원의 조직ㆍ직무범위ㆍ감사위원의 자격ㆍ감사대상공무원의 범위 기타 필요한 사항은 법률로 정한다.\\n \\n       제5장 법원\\n \\n제101조 ①사법권은 법관으로 구성된 법원에 속한다.\\n②법원은 최고법원인 대법원과 각급법원으로 조직된다.\\n③법관의 자격은 법률로 정한다.\\n \\n제102조 ①대법원에 부를 둘 수 있다.\\n②대법원에 대법관을 둔다. 다만, 법률이 정하는 바에 의하여 대법관이 아닌 법관을 둘 수 있다.'),\n",
       "  377.3847351074219),\n",
       " (Document(metadata={'creationdate': '2024-04-01T21:26:24+09:00', 'creator': 'PyPDF', 'moddate': '2024-04-01T21:26:24+09:00', 'page': 7, 'page_label': '8', 'producer': 'iText 2.1.7 by 1T3XT', 'source': 'data/대한민국헌법(헌법)(제00010호)(19880225).pdf', 'total_pages': 14}, page_content='제85조 전직대통령의 신분과 예우에 관하여는 법률로 정한다.\\n \\n         제2절 행정부\\n           제1관 국무총리와 국무위원\\n \\n제86조 ①국무총리는 국회의 동의를 얻어 대통령이 임명한다.\\n②국무총리는 대통령을 보좌하며, 행정에 관하여 대통령의 명을 받아 행정각부를 통할한다.\\n③군인은 현역을 면한 후가 아니면 국무총리로 임명될 수 없다.\\n \\n제87조 ①국무위원은 국무총리의 제청으로 대통령이 임명한다.\\n②국무위원은 국정에 관하여 대통령을 보좌하며, 국무회의의 구성원으로서 국정을 심의한다.\\n③국무총리는 국무위원의 해임을 대통령에게 건의할 수 있다.\\n④군인은 현역을 면한 후가 아니면 국무위원으로 임명될 수 없다.'),\n",
       "  379.5326843261719),\n",
       " (Document(metadata={'creationdate': '2024-04-01T21:26:24+09:00', 'creator': 'PyPDF', 'moddate': '2024-04-01T21:26:24+09:00', 'page': 9, 'page_label': '10', 'producer': 'iText 2.1.7 by 1T3XT', 'source': 'data/대한민국헌법(헌법)(제00010호)(19880225).pdf', 'total_pages': 14}, page_content='③대법원장과 대법관이 아닌 법관의 임기는 10년으로 하며, 법률이 정하는 바에 의하여 연임할 수 있다.\\n④법관의 정년은 법률로 정한다.\\n \\n제106조 ①법관은 탄핵 또는 금고 이상의 형의 선고에 의하지 아니하고는 파면되지 아니하며, 징계처분에 의하지 아니\\n하고는 정직ㆍ감봉 기타 불리한 처분을 받지 아니한다.\\n②법관이 중대한 심신상의 장해로 직무를 수행할 수 없을 때에는 법률이 정하는 바에 의하여 퇴직하게 할 수 있다.\\n \\n제107조 ①법률이 헌법에 위반되는 여부가 재판의 전제가 된 경우에는 법원은 헌법재판소에 제청하여 그 심판에 의하\\n여 재판한다.'),\n",
       "  379.6675109863281)]"
      ]
     },
     "execution_count": 3,
     "metadata": {},
     "output_type": "execute_result"
    }
   ],
   "source": [
    "# 유사 문서 검색 및 유사도 출력\n",
    "db.similarity_search_with_score(query)"
   ]
  },
  {
   "cell_type": "markdown",
   "metadata": {},
   "source": [
    "### 로컬디스크에 저장 및 로드"
   ]
  },
  {
   "cell_type": "code",
   "execution_count": 4,
   "metadata": {},
   "outputs": [
    {
     "name": "stderr",
     "output_type": "stream",
     "text": [
      "/var/folders/nb/m5pjt20x3jq26zr0wyzw53zw0000gn/T/ipykernel_1894/3022481109.py:2: LangChainDeprecationWarning: The class `Chroma` was deprecated in LangChain 0.2.9 and will be removed in 1.0. An updated version of the class exists in the :class:`~langchain-chroma package and should be used instead. To use it run `pip install -U :class:`~langchain-chroma` and import as `from :class:`~langchain_chroma import Chroma``.\n",
      "  Chroma().delete_collection()\n"
     ]
    }
   ],
   "source": [
    "# Chroma DB에서 문서 삭제\n",
    "Chroma().delete_collection()"
   ]
  },
  {
   "cell_type": "code",
   "execution_count": 5,
   "metadata": {},
   "outputs": [
    {
     "name": "stdout",
     "output_type": "stream",
     "text": [
      "후임자를 선거한다.\n",
      " \n",
      "제69조 대통령은 취임에 즈음하여 다음의 선서를 한다.\n",
      "“나는 헌법을 준수하고 국가를 보위하며 조국의 평화적 통일과 국민의 자유와 복리의 증진 및 민족문화의 창달에\n",
      "노력하여 대통령으로서의 직책을 성실히 수행할 것을 국민 앞에 엄숙히 선서합니다.”\n",
      " \n",
      "제70조 대통령의 임기는 5년으로 하며, 중임할 수 없다.\n",
      " \n",
      "제71조 대통령이 궐위되거나 사고로 인하여 직무를 수행할 수 없을 때에는 국무총리, 법률이 정한 국무위원의 순서로\n",
      "그 권한을 대행한다.\n",
      " \n",
      "제72조 대통령은 필요하다고 인정할 때에는 외교ㆍ국방ㆍ통일 기타 국가안위에 관한 중요정책을 국민투표에 붙일 수\n",
      "있다.\n",
      " \n",
      "제73조 대통령은 조약을 체결ㆍ비준하고, 외교사절을 신임ㆍ접수 또는 파견하며, 선전포고와 강화를 한다.\n",
      " \n",
      "제74조 ①대통령은 헌법과 법률이 정하는 바에 의하여 국군을 통수한다.\n",
      "②국군의 조직과 편성은 법률로 정한다.\n"
     ]
    }
   ],
   "source": [
    "from langchain.document_loaders import PyPDFLoader\n",
    "from langchain_text_splitters import RecursiveCharacterTextSplitter\n",
    "from langchain.vectorstores import Chroma\n",
    "from langchain_huggingface import HuggingFaceEmbeddings\n",
    "\n",
    "# PDF 파일을 로드하고 페이지를 분할\n",
    "loader = PyPDFLoader(\"data/대한민국헌법(헌법)(제00010호)(19880225).pdf\")\n",
    "pages = loader.load_and_split()\n",
    "text_splitter = RecursiveCharacterTextSplitter(chunk_size=500, chunk_overlap=100)\n",
    "docs = text_splitter.split_documents(pages)\n",
    "\n",
    "# 임베딩 모델을 로드\n",
    "ko_embedding = HuggingFaceEmbeddings(\n",
    "    model_name=\"snunlp/KR-SBERT-V40K-klueNLI-augSTS\"\n",
    ")\n",
    "\n",
    "# 디스크에 저장\n",
    "db2 = Chroma.from_documents(docs, ko_embedding, persist_directory=\"./chroma_db\")\n",
    "\n",
    "# 디스크에서 로드\n",
    "db3 = Chroma(persist_directory=\"./chroma_db\", embedding_function=ko_embedding)\n",
    "\n",
    "query = \"대통령의 임기는?\"\n",
    "result = db3.similarity_search(query)\n",
    "print(result[0].page_content)"
   ]
  }
 ],
 "metadata": {
  "kernelspec": {
   "display_name": "RAG_CODE",
   "language": "python",
   "name": "python3"
  },
  "language_info": {
   "codemirror_mode": {
    "name": "ipython",
    "version": 3
   },
   "file_extension": ".py",
   "mimetype": "text/x-python",
   "name": "python",
   "nbconvert_exporter": "python",
   "pygments_lexer": "ipython3",
   "version": "3.12.9"
  }
 },
 "nbformat": 4,
 "nbformat_minor": 2
}
