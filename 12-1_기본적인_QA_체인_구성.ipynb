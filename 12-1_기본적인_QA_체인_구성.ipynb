{
 "cells": [
  {
   "cell_type": "markdown",
   "metadata": {},
   "source": [
    "### 필요한 라이브러리 호출"
   ]
  },
  {
   "cell_type": "code",
   "execution_count": 1,
   "metadata": {},
   "outputs": [],
   "source": [
    "from langchain.document_loaders import PyPDFLoader\n",
    "from langchain_experimental.text_splitter import SemanticChunker\n",
    "from langchain_huggingface import HuggingFaceEmbeddings\n",
    "from langchain_chroma import Chroma\n",
    "from langchain_ollama import ChatOllama\n",
    "from langchain.retrievers.multi_query import MultiQueryRetriever\n",
    "from langchain_core.output_parsers import StrOutputParser\n",
    "from langchain import hub\n",
    "from langchain_core.runnables import RunnablePassthrough"
   ]
  },
  {
   "cell_type": "markdown",
   "metadata": {},
   "source": [
    "### 문서 로드/분할 및 벡터 임베딩"
   ]
  },
  {
   "cell_type": "code",
   "execution_count": 2,
   "metadata": {},
   "outputs": [],
   "source": [
    "# Chroma DB에서 문서 삭제\n",
    "Chroma().delete_collection()"
   ]
  },
  {
   "cell_type": "code",
   "execution_count": 3,
   "metadata": {},
   "outputs": [
    {
     "name": "stderr",
     "output_type": "stream",
     "text": [
      "/opt/anaconda3/envs/RAG_CODE/lib/python3.12/site-packages/tqdm/auto.py:21: TqdmWarning: IProgress not found. Please update jupyter and ipywidgets. See https://ipywidgets.readthedocs.io/en/stable/user_install.html\n",
      "  from .autonotebook import tqdm as notebook_tqdm\n"
     ]
    }
   ],
   "source": [
    "# PDF 파일 로드\n",
    "loader = PyPDFLoader(\"data/대한민국헌법(헌법)(제00010호)(19880225).pdf\")\n",
    "pages = loader.load()\n",
    "\n",
    "# 문서 분할\n",
    "embeddings = HuggingFaceEmbeddings(model_name=\"snunlp/KR-SBERT-V40K-klueNLI-augSTS\")\n",
    "text_splitter = SemanticChunker(embeddings)\n",
    "docs = text_splitter.split_documents(pages)\n",
    "\n",
    "# LLM 선언\n",
    "llm = ChatOllama(\n",
    "    model = \"basic_kanana\",\n",
    "    temperature = 0.7\n",
    ")\n",
    "\n",
    "# ChromaDB 선언\n",
    "vectorstore = Chroma.from_documents(docs, embeddings)\n",
    "\n",
    "# Retriever 선언\n",
    "retriever_from_llm = MultiQueryRetriever.from_llm(\n",
    "    retriever = vectorstore.as_retriever(\n",
    "        search_type = \"mmr\",\n",
    "        search_kwargs = {\"lambda_mult\": 0.7, \"fetch_k\": 10, \"k\": 3}\n",
    "    ),\n",
    "    llm = llm\n",
    ")"
   ]
  },
  {
   "cell_type": "markdown",
   "metadata": {},
   "source": [
    "### 프롬프트 선언"
   ]
  },
  {
   "cell_type": "code",
   "execution_count": 4,
   "metadata": {},
   "outputs": [
    {
     "name": "stderr",
     "output_type": "stream",
     "text": [
      "/opt/anaconda3/envs/RAG_CODE/lib/python3.12/site-packages/langsmith/client.py:277: LangSmithMissingAPIKeyWarning: API key must be provided when using hosted LangSmith API\n",
      "  warnings.warn(\n"
     ]
    }
   ],
   "source": [
    "# Langchain Hub에서 RAG 프롬프트 호출\n",
    "prompt = hub.pull(\"rlm/rag-prompt\")\n",
    "\n",
    "# Retriever의 출력 결과물은 여러 개이므로 토큰 소모를 줄이기 위해 하나의 string으로 결합\n",
    "def format_docs(docs):\n",
    "    return \"\\n\\n\".join(doc.page_content for doc in docs)"
   ]
  },
  {
   "cell_type": "code",
   "execution_count": null,
   "metadata": {},
   "outputs": [],
   "source": [
    "# context와 question을 매개변수로 갖고 있는 것을 확인할 수 있음\n",
    "# prompt.messages"
   ]
  },
  {
   "cell_type": "markdown",
   "metadata": {},
   "source": [
    "### Chain 구축"
   ]
  },
  {
   "cell_type": "code",
   "execution_count": 5,
   "metadata": {},
   "outputs": [],
   "source": [
    "rag_chain = (\n",
    "    {\"context\": retriever_from_llm|format_docs, \"question\": RunnablePassthrough()}\n",
    "    | prompt\n",
    "    | llm\n",
    "    | StrOutputParser()\n",
    ")"
   ]
  },
  {
   "cell_type": "code",
   "execution_count": null,
   "metadata": {},
   "outputs": [
    {
     "name": "stdout",
     "output_type": "stream",
     "text": [
      "국회의원의 의무는 다음과 같습니다. 첫째, 국회의원은 헌법이 정한 선거 절차에 따라 선출되어야 하며, 이를 통해 국민의 대표자로서 책임을 다해야 합니다. 둘째, 국회의원은 법률안을 제안하고 심의하며, 이를 통해 국가와 국민의 이익을 위해 일합니다. 셋째, 국회의원은 직무상 행한 발언과 표결에 대해 국회 외에서 책임을 지지 않지만, 그로 인해 발생하는 문제에 대해 책임을 집니다. 넷째, 국회의원은 청렴의 의무가 있으며 국가 이익을 최우선으로 고려해야 합니다.\n"
     ]
    }
   ],
   "source": [
    "# 작동 결과 확인\n",
    "# answer = rag_chain.invoke(\"국회의원의 의무는 뭐야?\")\n",
    "# print(answer)"
   ]
  },
  {
   "cell_type": "code",
   "execution_count": null,
   "metadata": {},
   "outputs": [
    {
     "name": "stdout",
     "output_type": "stream",
     "text": [
      "            +---------------------------------+          \n",
      "            | Parallel<context,question>Input |          \n",
      "            +---------------------------------+          \n",
      "                    ***               ***                \n",
      "                 ***                     ***             \n",
      "               **                           ***          \n",
      "+---------------------+                        **        \n",
      "| MultiQueryRetriever |                         *        \n",
      "+---------------------+                         *        \n",
      "            *                                   *        \n",
      "            *                                   *        \n",
      "            *                                   *        \n",
      "    +-------------+                     +-------------+  \n",
      "    | format_docs |                     | Passthrough |  \n",
      "    +-------------+*                    +-------------+  \n",
      "                    ***               ***                \n",
      "                       ***         ***                   \n",
      "                          **     **                      \n",
      "            +----------------------------------+         \n",
      "            | Parallel<context,question>Output |         \n",
      "            +----------------------------------+         \n",
      "                              *                          \n",
      "                              *                          \n",
      "                              *                          \n",
      "                   +--------------------+                \n",
      "                   | ChatPromptTemplate |                \n",
      "                   +--------------------+                \n",
      "                              *                          \n",
      "                              *                          \n",
      "                              *                          \n",
      "                       +------------+                    \n",
      "                       | ChatOllama |                    \n",
      "                       +------------+                    \n",
      "                              *                          \n",
      "                              *                          \n",
      "                              *                          \n",
      "                    +-----------------+                  \n",
      "                    | StrOutputParser |                  \n",
      "                    +-----------------+                  \n",
      "                              *                          \n",
      "                              *                          \n",
      "                              *                          \n",
      "                 +-----------------------+               \n",
      "                 | StrOutputParserOutput |               \n",
      "                 +-----------------------+               \n"
     ]
    }
   ],
   "source": [
    "# Chain 구조 확인\n",
    "# rag_chain.get_graph().print_ascii()"
   ]
  }
 ],
 "metadata": {
  "kernelspec": {
   "display_name": "RAG_CODE",
   "language": "python",
   "name": "python3"
  },
  "language_info": {
   "codemirror_mode": {
    "name": "ipython",
    "version": 3
   },
   "file_extension": ".py",
   "mimetype": "text/x-python",
   "name": "python",
   "nbconvert_exporter": "python",
   "pygments_lexer": "ipython3",
   "version": "3.12.9"
  }
 },
 "nbformat": 4,
 "nbformat_minor": 2
}
